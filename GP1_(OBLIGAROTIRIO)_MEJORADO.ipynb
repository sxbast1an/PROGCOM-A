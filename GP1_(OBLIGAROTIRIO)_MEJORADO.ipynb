{
  "nbformat": 4,
  "nbformat_minor": 0,
  "metadata": {
    "colab": {
      "provenance": [],
      "authorship_tag": "ABX9TyPYuaJnG2+6RDzQiPXjvQC3",
      "include_colab_link": true
    },
    "kernelspec": {
      "name": "python3",
      "display_name": "Python 3"
    },
    "language_info": {
      "name": "python"
    }
  },
  "cells": [
    {
      "cell_type": "markdown",
      "metadata": {
        "id": "view-in-github",
        "colab_type": "text"
      },
      "source": [
        "<a href=\"https://colab.research.google.com/github/sxbast1an/PROGCOM-A/blob/main/GP1_(OBLIGAROTIRIO)_MEJORADO.ipynb\" target=\"_parent\"><img src=\"https://colab.research.google.com/assets/colab-badge.svg\" alt=\"Open In Colab\"/></a>"
      ]
    },
    {
      "cell_type": "code",
      "execution_count": null,
      "metadata": {
        "colab": {
          "base_uri": "https://localhost:8080/"
        },
        "id": "fR-NueGHK6nE",
        "outputId": "df22bab4-f503-41d9-a181-3c469e65ff6e"
      },
      "outputs": [
        {
          "output_type": "stream",
          "name": "stdout",
          "text": [
            "\n",
            "Elige tu opción (piedra, papel, tijera, lagarto, spock o 'salir' para terminar): spock\n",
            "La computadora elige: piedra\n",
            "¡Tú ganas! 🎉\n",
            "\n",
            "Elige tu opción (piedra, papel, tijera, lagarto, spock o 'salir' para terminar): lagarto\n",
            "La computadora elige: papel\n",
            "¡Tú ganas! 🎉\n",
            "\n",
            "Elige tu opción (piedra, papel, tijera, lagarto, spock o 'salir' para terminar): tijera\n",
            "La computadora elige: tijera\n",
            "¡Es un empate!\n",
            "\n",
            "Elige tu opción (piedra, papel, tijera, lagarto, spock o 'salir' para terminar): papel\n",
            "La computadora elige: spock\n",
            "¡Tú ganas! 🎉\n",
            "\n",
            "Elige tu opción (piedra, papel, tijera, lagarto, spock o 'salir' para terminar): piedra\n",
            "La computadora elige: piedra\n",
            "¡Es un empate!\n",
            "\n",
            "Elige tu opción (piedra, papel, tijera, lagarto, spock o 'salir' para terminar): spock\n",
            "La computadora elige: lagarto\n",
            "¡Tú pierdes! 😢\n",
            "\n",
            "Elige tu opción (piedra, papel, tijera, lagarto, spock o 'salir' para terminar): lagarto\n",
            "La computadora elige: papel\n",
            "¡Tú ganas! 🎉\n",
            "\n",
            "Elige tu opción (piedra, papel, tijera, lagarto, spock o 'salir' para terminar): papel\n",
            "La computadora elige: piedra\n",
            "¡Tú ganas! 🎉\n",
            "\n",
            "Elige tu opción (piedra, papel, tijera, lagarto, spock o 'salir' para terminar): papel\n",
            "La computadora elige: lagarto\n",
            "¡Tú pierdes! 😢\n"
          ]
        }
      ],
      "source": [
        "import random\n",
        "\n",
        "def jugar():\n",
        "    opciones = [\"piedra\", \"papel\", \"tijera\", \"lagarto\", \"spock\"]\n",
        "\n",
        "    reglas = {\n",
        "        \"tijera\": [\"papel\", \"lagarto\"],\n",
        "        \"papel\": [\"piedra\", \"spock\"],\n",
        "        \"piedra\": [\"tijera\", \"lagarto\"],\n",
        "        \"lagarto\": [\"spock\", \"papel\"],\n",
        "        \"spock\": [\"tijera\", \"piedra\"]\n",
        "    }\n",
        "\n",
        "    while True:\n",
        "        eleccion_usuario = input(\"\\nElige tu opción (piedra, papel, tijera, lagarto, spock o 'salir' para terminar): \").lower()\n",
        "\n",
        "        if eleccion_usuario == \"salir\":\n",
        "            print(\"¡Gracias por jugar!\")\n",
        "            break\n",
        "\n",
        "        if eleccion_usuario not in opciones:\n",
        "            print(\"Opción inválida. Por favor elige una de las disponibles.\")\n",
        "            continue\n",
        "\n",
        "        eleccion_computadora = random.choice(opciones)\n",
        "        print(f\"La computadora elige: {eleccion_computadora}\")\n",
        "\n",
        "        if eleccion_usuario == eleccion_computadora:\n",
        "            print(\"¡Es un empate!\")\n",
        "        elif eleccion_computadora in reglas[eleccion_usuario]:\n",
        "            print(\"¡Tú ganas! 🎉\")\n",
        "        else:\n",
        "            print(\"¡Tú pierdes! 😢\")\n",
        "\n",
        "# Ejecutar el juego\n",
        "jugar()\n"
      ]
    }
  ]
}