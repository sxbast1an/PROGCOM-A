{
  "nbformat": 4,
  "nbformat_minor": 0,
  "metadata": {
    "colab": {
      "provenance": [],
      "authorship_tag": "ABX9TyNimFmutayQMFePGFWL/RUA",
      "include_colab_link": true
    },
    "kernelspec": {
      "name": "python3",
      "display_name": "Python 3"
    },
    "language_info": {
      "name": "python"
    }
  },
  "cells": [
    {
      "cell_type": "markdown",
      "metadata": {
        "id": "view-in-github",
        "colab_type": "text"
      },
      "source": [
        "<a href=\"https://colab.research.google.com/github/sxbast1an/PROGCOM-A/blob/main/ejercicios_de_tarea_1_10.ipynb\" target=\"_parent\"><img src=\"https://colab.research.google.com/assets/colab-badge.svg\" alt=\"Open In Colab\"/></a>"
      ]
    },
    {
      "cell_type": "code",
      "execution_count": 5,
      "metadata": {
        "colab": {
          "base_uri": "https://localhost:8080/",
          "height": 106
        },
        "collapsed": true,
        "id": "wZjaXGG61_Gy",
        "outputId": "17e4c5d9-7d02-45e0-c824-d254bb8a2980"
      },
      "outputs": [
        {
          "output_type": "error",
          "ename": "SyntaxError",
          "evalue": "invalid syntax (ipython-input-3489248573.py, line 1)",
          "traceback": [
            "\u001b[0;36m  File \u001b[0;32m\"/tmp/ipython-input-3489248573.py\"\u001b[0;36m, line \u001b[0;32m1\u001b[0m\n\u001b[0;31m    import java.util.*:\u001b[0m\n\u001b[0m                     ^\u001b[0m\n\u001b[0;31mSyntaxError\u001b[0m\u001b[0;31m:\u001b[0m invalid syntax\n"
          ]
        }
      ],
      "source": [
        "import java.util.*;\n",
        "\n",
        "public class Main {\n",
        "    public static void main(String[] args) {\n",
        "        List<String> combo = new ArrayList<>();\n",
        "        String[] letras = {\"a\", \"b\"};\n",
        "        int[] números = {1, 2, 3};\n",
        "        for (String l : letras) {\n",
        "            for (int n : números) {\n",
        "                combo.add(l + n);\n",
        "            }\n",
        "        }\n",
        "        System.out.println(\"Combinaciones: \" + combo);\n",
        "    }\n",
        "}"
      ]
    },
    {
      "cell_type": "code",
      "source": [
        "import java.util.*;\n",
        "\n",
        "public class Main {\n",
        "    public static void main(String[] args) {\n",
        "        List<Integer> cuadra = new ArrayList<>();\n",
        "        for (int x = 1; x <= 10; x++) {\n",
        "            cuadra.add(x * x);\n",
        "        }\n",
        "        System.out.println(\"Cuadrados del 1 al 10: \" + cuadra);\n",
        "    }\n",
        "}"
      ],
      "metadata": {
        "colab": {
          "base_uri": "https://localhost:8080/",
          "height": 106
        },
        "id": "qoV2arG02Ng0",
        "outputId": "4140d336-bc80-44c0-b81f-bdfe16fd0006"
      },
      "execution_count": 6,
      "outputs": [
        {
          "output_type": "error",
          "ename": "SyntaxError",
          "evalue": "invalid syntax (ipython-input-3951004278.py, line 1)",
          "traceback": [
            "\u001b[0;36m  File \u001b[0;32m\"/tmp/ipython-input-3951004278.py\"\u001b[0;36m, line \u001b[0;32m1\u001b[0m\n\u001b[0;31m    import java.util.*;\u001b[0m\n\u001b[0m                     ^\u001b[0m\n\u001b[0;31mSyntaxError\u001b[0m\u001b[0;31m:\u001b[0m invalid syntax\n"
          ]
        }
      ]
    },
    {
      "cell_type": "code",
      "source": [
        "import java.util.*;\n",
        "\n",
        "public class Main {\n",
        "    public static void main(String[] args) {\n",
        "        List<String> palabras = Arrays.asList(\"sol\", \"estrella\", \"mar\", \"planeta\");\n",
        "        List<String> letras = new ArrayList<>();\n",
        "        for (String a : palabras) {\n",
        "            if (a.length() > 4) {\n",
        "                letras.add(a);\n",
        "            }\n",
        "        }\n",
        "        System.out.println(\"Las palabras con más de 4 letras son: \" + letras);\n",
        "    }\n",
        "}"
      ],
      "metadata": {
        "id": "aYaFNr9w2Vq6"
      },
      "execution_count": null,
      "outputs": []
    },
    {
      "cell_type": "code",
      "source": [
        "import java.util.*;\n",
        "\n",
        "public class Main {\n",
        "    public static void main(String[] args) {\n",
        "        ArrayList<Integer> doble = new ArrayList<>();\n",
        "        for (int i = 1; i <= 5; i++) {\n",
        "            doble.add(i * 2);\n",
        "        }\n",
        "        System.out.println(\"Doble de cada número del 1 al 5:\");\n",
        "        System.out.println(doble);\n",
        "    }\n",
        "}"
      ],
      "metadata": {
        "id": "E3a_DyXM2VkA"
      },
      "execution_count": null,
      "outputs": []
    },
    {
      "cell_type": "code",
      "source": [
        "import java.util.*;\n",
        "\n",
        "public class Main {\n",
        "    public static void main(String[] args) {\n",
        "        List<String> lenguaje = Arrays.asList(\"python\", \"java\", \"c++\");\n",
        "        List<String> mayúsculas = new ArrayList<>();\n",
        "        for (String l : lenguaje) {\n",
        "            mayúsculas.add(l.toUpperCase());\n",
        "        }\n",
        "        System.out.println(\"Palabras en mayúsculas: \" + mayúsculas);\n",
        "    }\n",
        "}"
      ],
      "metadata": {
        "id": "lh_FVym-2Vca"
      },
      "execution_count": null,
      "outputs": []
    },
    {
      "cell_type": "code",
      "source": [
        "import java.util.*;\n",
        "\n",
        "public class Main {\n",
        "    public static void main(String[] args) {\n",
        "        List<String> lista = new ArrayList<>();\n",
        "        for (int z = 1; z <= 10; z++) {\n",
        "            if (z % 2 == 0) {\n",
        "                lista.add(z + \" es par\");\n",
        "            } else {\n",
        "                lista.add(z + \" es impar\");\n",
        "            }\n",
        "        }\n",
        "        System.out.println(\"Par o impar: \" + lista);\n",
        "    }\n",
        "}"
      ],
      "metadata": {
        "id": "21Atq1jK2VUG"
      },
      "execution_count": null,
      "outputs": []
    },
    {
      "cell_type": "code",
      "source": [
        "import java.util.*;\n",
        "\n",
        "public class Main {\n",
        "    public static void main(String[] args) {\n",
        "        List<Integer> par = new ArrayList<>();\n",
        "        for (int z = 0; z <= 20; z++) {\n",
        "            if (z % 2 == 0) {\n",
        "                par.add(z);\n",
        "            }\n",
        "        }\n",
        "        System.out.println(\"Números pares del 0 al 20: \" + par);\n",
        "    }\n",
        "}"
      ],
      "metadata": {
        "id": "vHM79d842VJP"
      },
      "execution_count": null,
      "outputs": []
    },
    {
      "cell_type": "code",
      "source": [
        "import java.util.*;\n",
        "\n",
        "public class Main {\n",
        "    public static void main(String[] args) {\n",
        "        List<String> tuplas = new ArrayList<>();\n",
        "        for (int a = 1; a <= 5; a++) {\n",
        "            tuplas.add(\"(\" + a + \", \" + (a * a) + \")\");\n",
        "        }\n",
        "        System.out.println(\"Tuplas: \" + tuplas);\n",
        "    }\n",
        "}"
      ],
      "metadata": {
        "id": "3FCVRpOs2s9g"
      },
      "execution_count": null,
      "outputs": []
    },
    {
      "cell_type": "code",
      "source": [
        "import java.util.*;\n",
        "\n",
        "public class Main {\n",
        "    public static void main(String[] args) {\n",
        "        String palabra = \"programacion\";\n",
        "        ArrayList<Character> vocal = new ArrayList<>();\n",
        "        for (int x = 0; x < palabra.length(); x++) {\n",
        "            char c = palabra.charAt(x);\n",
        "            if (\"aeiou\".indexOf(c) != -1) {\n",
        "                vocal.add(c);\n",
        "            }\n",
        "        }\n",
        "        System.out.println(\"Vocales en la palabra (programacion):\");\n",
        "        System.out.println(vocal);\n",
        "    }\n",
        "}"
      ],
      "metadata": {
        "id": "qY9jYEKC2s1x"
      },
      "execution_count": null,
      "outputs": []
    }
  ]
}