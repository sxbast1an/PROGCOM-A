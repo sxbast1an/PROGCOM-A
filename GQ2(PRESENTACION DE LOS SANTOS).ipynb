{
  "nbformat": 4,
  "nbformat_minor": 0,
  "metadata": {
    "colab": {
      "provenance": [],
      "authorship_tag": "ABX9TyPBmyo1ZnjntaMngA/hk46P",
      "include_colab_link": true
    },
    "kernelspec": {
      "name": "python3",
      "display_name": "Python 3"
    },
    "language_info": {
      "name": "python"
    }
  },
  "cells": [
    {
      "cell_type": "markdown",
      "metadata": {
        "id": "view-in-github",
        "colab_type": "text"
      },
      "source": [
        "<a href=\"https://colab.research.google.com/github/sxbast1an/PROGCOM-A/blob/main/GQ2(PRESENTACION%20DE%20LOS%20SANTOS).ipynb\" target=\"_parent\"><img src=\"https://colab.research.google.com/assets/colab-badge.svg\" alt=\"Open In Colab\"/></a>"
      ]
    },
    {
      "cell_type": "markdown",
      "source": [
        "PRESENTACION DE DESABASTECIMIENTO DE AGUA EN LOS SANTOS}\n",
        "\n",
        "JOHAN SEBASTIAN VALDERRA RAMIREZ\n",
        "SERGIO ANDRES CARRILLO COLOBON\n",
        "JOSE DAVID SANABRIA"
      ],
      "metadata": {
        "id": "pexvGpl4SJ0V"
      }
    },
    {
      "cell_type": "markdown",
      "source": [
        "https://www.canva.com/design/DAGzi9C8gKI/sOFlon7fvH8tKCru0DF4Hg/edit?utm_content=DAGzi9C8gKI&utm_campaign=designshare&utm_medium=link2&utm_source=sharebutton"
      ],
      "metadata": {
        "id": "L-b7pxyRSHRs"
      }
    }
  ]
}