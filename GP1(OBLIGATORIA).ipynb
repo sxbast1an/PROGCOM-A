{
  "nbformat": 4,
  "nbformat_minor": 0,
  "metadata": {
    "colab": {
      "provenance": [],
      "authorship_tag": "ABX9TyN7HkFv/TtKX/u+cskPA3ud",
      "include_colab_link": true
    },
    "kernelspec": {
      "name": "python3",
      "display_name": "Python 3"
    },
    "language_info": {
      "name": "python"
    }
  },
  "cells": [
    {
      "cell_type": "markdown",
      "metadata": {
        "id": "view-in-github",
        "colab_type": "text"
      },
      "source": [
        "<a href=\"https://colab.research.google.com/github/sxbast1an/PROGCOM-A/blob/main/GP1(OBLIGATORIA).ipynb\" target=\"_parent\"><img src=\"https://colab.research.google.com/assets/colab-badge.svg\" alt=\"Open In Colab\"/></a>"
      ]
    },
    {
      "cell_type": "code",
      "source": [
        "import random\n",
        "\n",
        "def jugar():\n",
        "    opciones = [\"piedra\", \"papel\", \"tijera\"]\n",
        "    eleccion_usuario = input(\"Elige tu opción (piedra, papel o tijera): \").lower()\n",
        "\n",
        "    if eleccion_usuario not in opciones:\n",
        "        print(\"Opción inválida. Por favor elige piedra, papel o tijera.\")\n",
        "        return\n",
        "\n",
        "    eleccion_computadora = random.choice(opciones)\n",
        "    print(f\"La computadora elige: {eleccion_computadora}\")\n",
        "\n",
        "    if eleccion_usuario == eleccion_computadora:\n",
        "        print(\"¡Es un empate!\")\n",
        "    elif (eleccion_usuario == \"piedra\" and eleccion_computadora == \"tijera\") or \\\n",
        "         (eleccion_usuario == \"papel\" and eleccion_computadora == \"piedra\") or \\\n",
        "         (eleccion_usuario == \"tijera\" and eleccion_computadora == \"papel\"):\n",
        "        print(\"¡Tú ganas!\")\n",
        "    else:\n",
        "        print(\"¡Tú pierdes!\")\n",
        "\n",
        "# Ejecutar el juego\n",
        "jugar()\n"
      ],
      "metadata": {
        "colab": {
          "base_uri": "https://localhost:8080/"
        },
        "id": "JjC1kgB-MksA",
        "outputId": "206198ab-5e67-41c3-b62d-e53f1ec393c8"
      },
      "execution_count": 4,
      "outputs": [
        {
          "output_type": "stream",
          "name": "stdout",
          "text": [
            "Elige tu opción (piedra, papel o tijera): PAPEL\n",
            "La computadora elige: papel\n",
            "¡Es un empate!\n"
          ]
        }
      ]
    }
  ]
}