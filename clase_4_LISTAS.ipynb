{
  "nbformat": 4,
  "nbformat_minor": 0,
  "metadata": {
    "colab": {
      "provenance": [],
      "authorship_tag": "ABX9TyObd9tAYxkiDIHIT80TO4to",
      "include_colab_link": true
    },
    "kernelspec": {
      "name": "python3",
      "display_name": "Python 3"
    },
    "language_info": {
      "name": "python"
    }
  },
  "cells": [
    {
      "cell_type": "markdown",
      "metadata": {
        "id": "view-in-github",
        "colab_type": "text"
      },
      "source": [
        "<a href=\"https://colab.research.google.com/github/sxbast1an/PROGCOM-A/blob/main/clase_4_LISTAS.ipynb\" target=\"_parent\"><img src=\"https://colab.research.google.com/assets/colab-badge.svg\" alt=\"Open In Colab\"/></a>"
      ]
    },
    {
      "cell_type": "markdown",
      "source": [
        "LISTAS\n",
        "\n",
        "1. conjunto de datos\n",
        "2. es mutable. (5000xp)\n",
        "3. tienen indexacion\n"
      ],
      "metadata": {
        "id": "lP6Rkm8jFxSR"
      }
    },
    {
      "cell_type": "code",
      "source": [
        "lista=[\"maria\",4,True,\"hola\"]\n",
        "lista[0]"
      ],
      "metadata": {
        "colab": {
          "base_uri": "https://localhost:8080/",
          "height": 35
        },
        "id": "97b88qjqF_TA",
        "outputId": "10604961-1544-49ea-bc4e-365846afe79d"
      },
      "execution_count": 2,
      "outputs": [
        {
          "output_type": "execute_result",
          "data": {
            "text/plain": [
              "'maria'"
            ],
            "application/vnd.google.colaboratory.intrinsic+json": {
              "type": "string"
            }
          },
          "metadata": {},
          "execution_count": 2
        }
      ]
    },
    {
      "cell_type": "markdown",
      "source": [
        "4. son ordenadas\n",
        "\n",
        "\n",
        "forma generica\n"
      ],
      "metadata": {
        "id": "BaiQkzK2Ghpi"
      }
    },
    {
      "cell_type": "code",
      "source": [
        "nombre_de_la_lista=[e1,e2,e3...en]"
      ],
      "metadata": {
        "id": "4bsfi6VDGmeJ"
      },
      "execution_count": null,
      "outputs": []
    },
    {
      "cell_type": "code",
      "source": [
        "#obteniendo el ultimo eleemento de la lista\n",
        "lista[len(lista)-1]"
      ],
      "metadata": {
        "colab": {
          "base_uri": "https://localhost:8080/",
          "height": 35
        },
        "id": "W3Lh5N4aG6mg",
        "outputId": "69045e92-6459-4106-ad2c-7e58f62fc6bd"
      },
      "execution_count": 3,
      "outputs": [
        {
          "output_type": "execute_result",
          "data": {
            "text/plain": [
              "'hola'"
            ],
            "application/vnd.google.colaboratory.intrinsic+json": {
              "type": "string"
            }
          },
          "metadata": {},
          "execution_count": 3
        }
      ]
    },
    {
      "cell_type": "code",
      "source": [
        "lista[-1]"
      ],
      "metadata": {
        "colab": {
          "base_uri": "https://localhost:8080/",
          "height": 35
        },
        "id": "R1OEYn3LHKAX",
        "outputId": "cbd65af3-39d8-4d7c-da13-e39c00000084"
      },
      "execution_count": 4,
      "outputs": [
        {
          "output_type": "execute_result",
          "data": {
            "text/plain": [
              "'hola'"
            ],
            "application/vnd.google.colaboratory.intrinsic+json": {
              "type": "string"
            }
          },
          "metadata": {},
          "execution_count": 4
        }
      ]
    },
    {
      "cell_type": "code",
      "source": [
        "lista[:2]"
      ],
      "metadata": {
        "colab": {
          "base_uri": "https://localhost:8080/"
        },
        "id": "Lx9SvLJIHNXJ",
        "outputId": "b8daec89-0d2e-4805-9f43-2824976cf892"
      },
      "execution_count": 5,
      "outputs": [
        {
          "output_type": "execute_result",
          "data": {
            "text/plain": [
              "['maria', 4]"
            ]
          },
          "metadata": {},
          "execution_count": 5
        }
      ]
    },
    {
      "cell_type": "code",
      "source": [
        "lista[1:4]"
      ],
      "metadata": {
        "colab": {
          "base_uri": "https://localhost:8080/"
        },
        "id": "MhpPcOhzHTAP",
        "outputId": "cf186c3a-4aea-49ff-bd51-c17167c55eb3"
      },
      "execution_count": 6,
      "outputs": [
        {
          "output_type": "execute_result",
          "data": {
            "text/plain": [
              "[4, True, 'hola']"
            ]
          },
          "metadata": {},
          "execution_count": 6
        }
      ]
    },
    {
      "cell_type": "code",
      "source": [
        "for i in lista:\n",
        "    #va a iterar 4 veces\n",
        "    #i va tomar por primera vez el elemento de la lista\n",
        "    print(i)"
      ],
      "metadata": {
        "colab": {
          "base_uri": "https://localhost:8080/"
        },
        "id": "zyMm4xqiHbSP",
        "outputId": "abe49f72-6925-4824-ed6f-1ca5cdd37dc4"
      },
      "execution_count": 7,
      "outputs": [
        {
          "output_type": "stream",
          "name": "stdout",
          "text": [
            "maria\n",
            "4\n",
            "True\n",
            "hola\n"
          ]
        }
      ]
    },
    {
      "cell_type": "code",
      "source": [
        "#lista por extension\n",
        "num=[1, 2, 3, 4, 5, 6, 7, 8, 9, 10]\n",
        "#lista por compresion\n",
        "num2=list(range(1,11))\n",
        "print(num2)"
      ],
      "metadata": {
        "colab": {
          "base_uri": "https://localhost:8080/"
        },
        "id": "v1c3IZg9INHh",
        "outputId": "e69c8629-785b-436b-9ffc-7f5e79dd12b9"
      },
      "execution_count": 8,
      "outputs": [
        {
          "output_type": "stream",
          "name": "stdout",
          "text": [
            "[1, 2, 3, 4, 5, 6, 7, 8, 9, 10]\n"
          ]
        }
      ]
    },
    {
      "cell_type": "markdown",
      "source": [
        "##listas por compresion\n",
        "forma nueva de generar listas a partir de una expresion\n",
        "sintaxis:\n",
        "\n",
        "\n",
        "```\n",
        "nombre_lista=[expresion for item in iterable if condicion]\n",
        "```\n",
        "donde:\n",
        "1. expresion: es el valor que generara la nueva lista\n",
        "\n",
        "2. item: variable que representa cada elemento dentro de la interaccion\n",
        "\n",
        "3. iterable: cuantos elementos va a tener la nueva lista\n",
        "\n",
        "4. condicion: es opcional y se emplea si los elementos deben cumplir algo\n",
        "\n"
      ],
      "metadata": {
        "id": "XhMj0KaMIlYm"
      }
    },
    {
      "cell_type": "code",
      "source": [
        "#convertir una lista una de oraciones en una lista de palabras\n",
        "oraciones=[\"aqui va una oracion\",\"aqui va otra oracion\",\"aqui va la tercera oracion\"]\n",
        "palabras=[i.split()for i in oraciones]\n",
        "palabras"
      ],
      "metadata": {
        "colab": {
          "base_uri": "https://localhost:8080/"
        },
        "id": "xdOyuhoUJdlt",
        "outputId": "44b86664-9c2b-4497-b60d-be2559dfb6c1"
      },
      "execution_count": 9,
      "outputs": [
        {
          "output_type": "execute_result",
          "data": {
            "text/plain": [
              "[['aqui', 'va', 'una', 'oracion'],\n",
              " ['aqui', 'va', 'otra', 'oracion'],\n",
              " ['aqui', 'va', 'la', 'tercera', 'oracion']]"
            ]
          },
          "metadata": {},
          "execution_count": 9
        }
      ]
    },
    {
      "cell_type": "code",
      "source": [
        "#calsificar si un numero es positivo o negativo\n",
        "numeros=[1, 4, 6, -20, -2, -69, 4]\n",
        "lista2=[(n, \"positivo\") if n>0 else (n, \"negativo\") for n in numeros]\n",
        "lista2"
      ],
      "metadata": {
        "colab": {
          "base_uri": "https://localhost:8080/"
        },
        "id": "Rqp3odIbNHIi",
        "outputId": "76f24e51-5cc9-4045-c884-a02ae9387c83"
      },
      "execution_count": 10,
      "outputs": [
        {
          "output_type": "execute_result",
          "data": {
            "text/plain": [
              "[(1, 'positivo'),\n",
              " (4, 'positivo'),\n",
              " (6, 'positivo'),\n",
              " (-20, 'negativo'),\n",
              " (-2, 'negativo'),\n",
              " (-69, 'negativo'),\n",
              " (4, 'positivo')]"
            ]
          },
          "metadata": {},
          "execution_count": 10
        }
      ]
    },
    {
      "cell_type": "code",
      "source": [
        "temperaturas=[]\n",
        "for i in range(10):\n",
        "    while True :\n",
        "      try:\n",
        "        temp_str = input(f\"ingresa la temperatura {i+1}:\")\n",
        "        temp = float(temp_str)\n",
        "        temperaturas.append(temp)\n",
        "        break\n",
        "      except ValueError:\n",
        "        print(\"entrada invalidad. por favor ingresar un numero\")\n",
        "\n",
        "\n",
        "      clasificacion_temperaturas = [(temp, \"frio\") if temp < 20 else (temp, \"caliente\") if temp >27 else (temp, \"templado\") for temp in temperaturas]\n",
        "      print(clasificacion_temperaturas)"
      ],
      "metadata": {
        "colab": {
          "base_uri": "https://localhost:8080/"
        },
        "id": "MsAgeRQpN_7y",
        "outputId": "2127009b-5292-4d4e-d195-0e4054b0f84c"
      },
      "execution_count": 14,
      "outputs": [
        {
          "name": "stdout",
          "output_type": "stream",
          "text": [
            "ingresa la temperatura 1:15\n",
            "ingresa la temperatura 2:18\n",
            "ingresa la temperatura 3:45\n",
            "ingresa la temperatura 4:49\n",
            "ingresa la temperatura 5:65\n",
            "ingresa la temperatura 6:23\n",
            "ingresa la temperatura 7:12\n",
            "ingresa la temperatura 8:18\n",
            "ingresa la temperatura 9:-1\n",
            "ingresa la temperatura 10:15\n"
          ]
        }
      ]
    }
  ]
}