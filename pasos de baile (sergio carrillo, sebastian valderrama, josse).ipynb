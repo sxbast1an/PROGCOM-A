{
  "nbformat": 4,
  "nbformat_minor": 0,
  "metadata": {
    "colab": {
      "provenance": [],
      "authorship_tag": "ABX9TyOMIQFLGa222sHI/JgtWBlK",
      "include_colab_link": true
    },
    "kernelspec": {
      "name": "python3",
      "display_name": "Python 3"
    },
    "language_info": {
      "name": "python"
    }
  },
  "cells": [
    {
      "cell_type": "markdown",
      "metadata": {
        "id": "view-in-github",
        "colab_type": "text"
      },
      "source": [
        "<a href=\"https://colab.research.google.com/github/sxbast1an/PROGCOM-A/blob/main/pasos%20de%20baile%20(sergio%20carrillo%2C%20sebastian%20valderrama%2C%20josse).ipynb\" target=\"_parent\"><img src=\"https://colab.research.google.com/assets/colab-badge.svg\" alt=\"Open In Colab\"/></a>"
      ]
    },
    {
      "cell_type": "code",
      "source": [
        "def paso_1(a):\n",
        "    for i in range(a):\n",
        "        print(\"Paso 1: Voltea a la derecha\")\n",
        "\n",
        "def paso_2(a):\n",
        "    for i in range(a):\n",
        "        print(\"Paso 2: Toma la soda\")\n",
        "\n",
        "def paso_3(a):\n",
        "    for i in range(a):\n",
        "        print(\"Paso 3: Codo hacia arriba\")\n",
        "\n",
        "def paso_4(a):\n",
        "    for i in range(a):\n",
        "        print(\"Paso 4: Codo hacia al lado\")\n",
        "\n",
        "def paso_5(a):\n",
        "    for i in range(a):\n",
        "        print(\"Paso 5: Brazos agarrados hacia arriba\")\n",
        "\n",
        "def paso_6(a):\n",
        "    for i in range(a):\n",
        "        print(\"Paso 6: Media vuelta y brazos hacia arriba\")\n",
        "\n",
        "def paso_7(a):\n",
        "    for i in range(a):\n",
        "        print(\"Paso 7: Hombros hacia delante y hacia atrás\")\n",
        "\n",
        "def paso_8(a):\n",
        "    for i in range(a):\n",
        "        print(\"Paso 8: Cruzar pierna derecha sobre la izquierda\")\n",
        "\n",
        "def paso_9(a):\n",
        "    for i in range(a):\n",
        "        print(\"Paso 9: Cruzar pierna izquierda sobre la derecha\")\n",
        "\n",
        "def paso_10(a):\n",
        "    for i in range(a):\n",
        "        print(\"Paso 10: Brazo derecho extendido y palmada hacia adelante con el izquierdo\")\n",
        "\n",
        "def baile(a, b):\n",
        "    for j in range(b):\n",
        "        paso_1(a)\n",
        "        paso_2(a)\n",
        "        paso_3(a)\n",
        "        paso_4(a)\n",
        "        paso_5(a)\n",
        "        paso_6(a)\n",
        "        paso_7(a)\n",
        "        paso_8(a)\n",
        "        paso_9(a)\n",
        "        paso_10(a)\n",
        "\n"
      ],
      "metadata": {
        "id": "DWapPaFU5H2Q"
      },
      "execution_count": 39,
      "outputs": []
    },
    {
      "cell_type": "code",
      "source": [
        "baile(1, 2)"
      ],
      "metadata": {
        "colab": {
          "base_uri": "https://localhost:8080/"
        },
        "id": "Mu22KW7q-aEk",
        "outputId": "0cad767a-fd9a-48eb-bd6e-5be5df3aa8af"
      },
      "execution_count": 40,
      "outputs": [
        {
          "output_type": "stream",
          "name": "stdout",
          "text": [
            "Paso 1: Voltea a la derecha\n",
            "Paso 2: Toma la soda\n",
            "Paso 3: Codo hacia arriba\n",
            "Paso 4: Codo hacia al lado\n",
            "Paso 5: Brazos agarrados hacia arriba\n",
            "Paso 6: Media vuelta y brazos hacia arriba\n",
            "Paso 7: Hombros hacia delante y hacia atrás\n",
            "Paso 8: Cruzar pierna derecha sobre la izquierda\n",
            "Paso 9: Cruzar pierna izquierda sobre la derecha\n",
            "Paso 10: Brazo derecho extendido y palmada hacia adelante con el izquierdo\n",
            "Paso 1: Voltea a la derecha\n",
            "Paso 2: Toma la soda\n",
            "Paso 3: Codo hacia arriba\n",
            "Paso 4: Codo hacia al lado\n",
            "Paso 5: Brazos agarrados hacia arriba\n",
            "Paso 6: Media vuelta y brazos hacia arriba\n",
            "Paso 7: Hombros hacia delante y hacia atrás\n",
            "Paso 8: Cruzar pierna derecha sobre la izquierda\n",
            "Paso 9: Cruzar pierna izquierda sobre la derecha\n",
            "Paso 10: Brazo derecho extendido y palmada hacia adelante con el izquierdo\n"
          ]
        }
      ]
    }
  ]
}