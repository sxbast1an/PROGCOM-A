{
  "nbformat": 4,
  "nbformat_minor": 0,
  "metadata": {
    "colab": {
      "provenance": [],
      "authorship_tag": "ABX9TyMPKBAD5hNSmsmnJcLcyMN8",
      "include_colab_link": true
    },
    "kernelspec": {
      "name": "python3",
      "display_name": "Python 3"
    },
    "language_info": {
      "name": "python"
    }
  },
  "cells": [
    {
      "cell_type": "markdown",
      "metadata": {
        "id": "view-in-github",
        "colab_type": "text"
      },
      "source": [
        "<a href=\"https://colab.research.google.com/github/sxbast1an/PROGCOM-A/blob/main/ejercicios%20en%20clase_Estructuras_de_seleccion-johan%20sebastian%20valderrama%20ramirez.ipynb\" target=\"_parent\"><img src=\"https://colab.research.google.com/assets/colab-badge.svg\" alt=\"Open In Colab\"/></a>"
      ]
    },
    {
      "cell_type": "markdown",
      "source": [
        "#estructuras de seleccion\n",
        "\n",
        "se emplea cuando se debe evaluar una condicion y esta da un valor de verdad (v) o (f)\n"
      ],
      "metadata": {
        "id": "szQcHNxdsyAo"
      }
    },
    {
      "cell_type": "markdown",
      "source": [
        "##Estrucutura if-else\n",
        "\n",
        "```\n",
        "if (condicion):\n",
        "  entro aqui, si la condicion es v\n",
        "else:\n",
        "  entro aqui, si la condicion es f\n",
        "\n",
        "\n",
        "```\n",
        "\n"
      ],
      "metadata": {
        "id": "lRn962ictGuZ"
      }
    },
    {
      "cell_type": "code",
      "source": [
        "#escribe un programa que reciba un numero e indique si es positivo\n",
        "n=int(input(\"ingrese un numero\"))\n",
        "if n>0:\n",
        "  print(f\"[n] es un numero positivo\")\n",
        "else:\n",
        "  print (n,\"NO es un numero positivo\")"
      ],
      "metadata": {
        "colab": {
          "base_uri": "https://localhost:8080/"
        },
        "id": "FqVFdy4dtyMX",
        "outputId": "123e1be2-95ef-4922-ec72-bfe9ec1090bc"
      },
      "execution_count": 12,
      "outputs": [
        {
          "output_type": "stream",
          "name": "stdout",
          "text": [
            "ingrese un numero15\n",
            "[n] es un numero positivo\n"
          ]
        }
      ]
    },
    {
      "cell_type": "markdown",
      "source": [
        "##Seleccion miltiple if-elif-else\n",
        "\n",
        "\n",
        "```\n",
        "if (condicion):\n",
        "  si se cumple condicion 1, entro aqui\n",
        "elif (condicion):\n",
        "  si no se cumple condicion 1, pero se cumple condicion 2, entro aqui\n",
        "else:\n",
        "  si no se cumple ninguna de las anteriores\n",
        "\n",
        "```\n",
        "\n"
      ],
      "metadata": {
        "id": "cxU75Wc7zfFB"
      }
    },
    {
      "cell_type": "code",
      "source": [
        "if n>0:print(f\"{n} es un numero psitivo\")\n",
        "elif n<0: print(f\"{n} NO es un numero positivo\")\n",
        "else: print(f\"{n} es 0\")"
      ],
      "metadata": {
        "colab": {
          "base_uri": "https://localhost:8080/"
        },
        "id": "kzGL9wJ-zePx",
        "outputId": "bce4ec75-5c12-4881-d11a-957404f0d587"
      },
      "execution_count": 10,
      "outputs": [
        {
          "output_type": "stream",
          "name": "stdout",
          "text": [
            "17 es un numero psitivo\n"
          ]
        }
      ]
    },
    {
      "cell_type": "markdown",
      "source": [
        "## Operador terniario\n",
        "se usa cuando hay una condicion a evaluar simple y se desea resolver en una linea de codigo\n",
        "\n",
        "\n",
        "```\n",
        "(valor de verdad v) if (condicion)\n",
        "else  (valor de verdad f)\n",
        "```\n",
        "\n"
      ],
      "metadata": {
        "id": "pxeNI7Ml1mNc"
      }
    },
    {
      "cell_type": "code",
      "source": [
        "print (f\"{n} es un numero positivo\") if  n>0 else print(f\"{n}no es un numero positivo\")"
      ],
      "metadata": {
        "colab": {
          "base_uri": "https://localhost:8080/"
        },
        "id": "8tEg_MrC2AL7",
        "outputId": "f2519298-1d83-4625-ad46-10319a1b720f"
      },
      "execution_count": 11,
      "outputs": [
        {
          "output_type": "stream",
          "name": "stdout",
          "text": [
            "17 es un numero positivo\n"
          ]
        }
      ]
    },
    {
      "cell_type": "code",
      "source": [
        "a=f\"{n} es un numero positivo\" if n>0 else f\"{n} NO es un numero positivo\"\n",
        "print (a)"
      ],
      "metadata": {
        "colab": {
          "base_uri": "https://localhost:8080/"
        },
        "id": "QiuPwtw43iZ2",
        "outputId": "b7e52314-4d0e-4671-d1d2-0727cecaa604"
      },
      "execution_count": 13,
      "outputs": [
        {
          "output_type": "stream",
          "name": "stdout",
          "text": [
            "15 es un numero positivo\n"
          ]
        }
      ]
    },
    {
      "cell_type": "markdown",
      "source": [
        "2."
      ],
      "metadata": {
        "id": "_fv0ZQ7R_Cmf"
      }
    },
    {
      "cell_type": "code",
      "source": [
        "edad = int(input(\"Ingrese su edad: \"))\n",
        "\n",
        "if edad >= 18:\n",
        "    print(\"Es mayor de edad.\")\n",
        "elif edad < 18:\n",
        "    print(\"Es menor de edad.\")\n",
        "else:\n",
        "    print(\"Edad no válida.\")"
      ],
      "metadata": {
        "colab": {
          "base_uri": "https://localhost:8080/"
        },
        "id": "rsoBuA5r_Dnv",
        "outputId": "2825e67f-da6a-42b3-f6d2-004048f6038f"
      },
      "execution_count": 16,
      "outputs": [
        {
          "output_type": "stream",
          "name": "stdout",
          "text": [
            "Ingrese su edad: 21\n",
            "Es mayor de edad.\n"
          ]
        }
      ]
    },
    {
      "cell_type": "markdown",
      "source": [
        "3."
      ],
      "metadata": {
        "id": "DEGOWWJvAd4w"
      }
    },
    {
      "cell_type": "code",
      "source": [
        "a = float(input(\"Ingrese el primer número: \"))\n",
        "b = float(input(\"Ingrese el segundo número: \"))\n",
        "\n",
        "if a > b:\n",
        "    print(\"El mayor es:\", a)\n",
        "elif b > a:\n",
        "    print(\"El mayor es:\", b)\n",
        "else:\n",
        "    print(\"Ambos números son iguales.\")"
      ],
      "metadata": {
        "colab": {
          "base_uri": "https://localhost:8080/"
        },
        "id": "3BKjUcXLAdD-",
        "outputId": "15083d03-5492-474d-bd62-3683f57a027f"
      },
      "execution_count": 17,
      "outputs": [
        {
          "output_type": "stream",
          "name": "stdout",
          "text": [
            "Ingrese el primer número: 2\n",
            "Ingrese el segundo número: 6\n",
            "El mayor es: 6.0\n"
          ]
        }
      ]
    },
    {
      "cell_type": "markdown",
      "source": [
        "4."
      ],
      "metadata": {
        "id": "VswGZW_nArAN"
      }
    },
    {
      "cell_type": "code",
      "source": [
        "nota = float(input(\"Ingrese la calificación (0-100): \"))\n",
        "\n",
        "if nota >= 60:\n",
        "    print(\"Aprobado.\")\n",
        "elif nota < 60:\n",
        "    print(\"Reprobado.\")\n",
        "else:\n",
        "    print(\"Calificación no válida.\")"
      ],
      "metadata": {
        "colab": {
          "base_uri": "https://localhost:8080/"
        },
        "id": "Rd7YGkZ2AsCF",
        "outputId": "85edb406-5be7-4245-840e-f3c4f43dccf8"
      },
      "execution_count": 18,
      "outputs": [
        {
          "output_type": "stream",
          "name": "stdout",
          "text": [
            "Ingrese la calificación (0-100): 75\n",
            "Aprobado.\n"
          ]
        }
      ]
    },
    {
      "cell_type": "markdown",
      "source": [
        "5."
      ],
      "metadata": {
        "id": "nhpMn0VqAxuA"
      }
    },
    {
      "cell_type": "code",
      "source": [
        "num = int(input(\"Ingrese un número: \"))\n",
        "\n",
        "if num % 2 == 0:\n",
        "    print(\"Es par.\")\n",
        "elif num % 2 != 0:\n",
        "    print(\"Es impar.\")\n",
        "else:\n",
        "    print(\"Número no válido.\")"
      ],
      "metadata": {
        "colab": {
          "base_uri": "https://localhost:8080/"
        },
        "id": "krKVwgl0Ayk1",
        "outputId": "afb701ba-6f84-4a26-b5a8-5c7a5baa53f6"
      },
      "execution_count": 19,
      "outputs": [
        {
          "output_type": "stream",
          "name": "stdout",
          "text": [
            "Ingrese un número: 5\n",
            "Es impar.\n"
          ]
        }
      ]
    },
    {
      "cell_type": "markdown",
      "source": [
        "6."
      ],
      "metadata": {
        "id": "4yNJdd3dBFyd"
      }
    },
    {
      "cell_type": "code",
      "source": [
        "a = float(input(\"Ingrese el primer número: \"))\n",
        "b = float(input(\"Ingrese el segundo número: \"))\n",
        "c = float(input(\"Ingrese el tercer número: \"))\n",
        "\n",
        "if a >= b and a >= c:\n",
        "    print(\"El mayor es:\", a)\n",
        "elif b >= a and b >= c:\n",
        "    print(\"El mayor es:\", b)\n",
        "else:\n",
        "    print(\"El mayor es:\", c)"
      ],
      "metadata": {
        "colab": {
          "base_uri": "https://localhost:8080/"
        },
        "id": "Nt7AuYn7BGlV",
        "outputId": "56e48894-6157-4a20-b797-9219cfd4ca30"
      },
      "execution_count": 20,
      "outputs": [
        {
          "output_type": "stream",
          "name": "stdout",
          "text": [
            "Ingrese el primer número: 8\n",
            "Ingrese el segundo número: 3\n",
            "Ingrese el tercer número: 6\n",
            "El mayor es: 8.0\n"
          ]
        }
      ]
    },
    {
      "cell_type": "markdown",
      "source": [
        "7."
      ],
      "metadata": {
        "id": "Kxs69YFGBTSl"
      }
    },
    {
      "cell_type": "code",
      "source": [
        "anio = int(input(\"Ingrese un año: \"))\n",
        "\n",
        "if (anio % 4 == 0 and anio % 100 != 0) or (anio % 400 == 0):\n",
        "    print(\"Es bisiesto.\")\n",
        "elif anio % 4 != 0:\n",
        "    print(\"No es bisiesto.\")\n",
        "else:\n",
        "    print(\"No es bisiesto.\")"
      ],
      "metadata": {
        "colab": {
          "base_uri": "https://localhost:8080/"
        },
        "id": "Tr8foEIlBT4l",
        "outputId": "e1d00268-b456-4ec5-8be0-fdad2bd834ad"
      },
      "execution_count": 21,
      "outputs": [
        {
          "output_type": "stream",
          "name": "stdout",
          "text": [
            "Ingrese un año: 2015\n",
            "No es bisiesto.\n"
          ]
        }
      ]
    },
    {
      "cell_type": "markdown",
      "source": [
        "9."
      ],
      "metadata": {
        "id": "8Sv-D68uBe32"
      }
    },
    {
      "cell_type": "code",
      "source": [
        "num = int(input(\"Ingrese un número: \"))\n",
        "\n",
        "if num % 3 == 0 and num % 5 == 0:\n",
        "    print(\"FizzBuzz\")\n",
        "elif num % 3 == 0:\n",
        "    print(\"Fizz\")\n",
        "elif num % 5 == 0:\n",
        "    print(\"Buzz\")\n",
        "else:\n",
        "    print(num)"
      ],
      "metadata": {
        "colab": {
          "base_uri": "https://localhost:8080/"
        },
        "id": "r9fYvyuyBhrU",
        "outputId": "e68d7fc4-6b14-43d3-a2e0-3d3e41152081"
      },
      "execution_count": 27,
      "outputs": [
        {
          "output_type": "stream",
          "name": "stdout",
          "text": [
            "Ingrese un número: 9\n",
            "Fizz\n"
          ]
        }
      ]
    }
  ]
}