{
  "nbformat": 4,
  "nbformat_minor": 0,
  "metadata": {
    "colab": {
      "provenance": [],
      "authorship_tag": "ABX9TyMXOvDsoNA+mc2/4xQeEjFi",
      "include_colab_link": true
    },
    "kernelspec": {
      "name": "python3",
      "display_name": "Python 3"
    },
    "language_info": {
      "name": "python"
    }
  },
  "cells": [
    {
      "cell_type": "markdown",
      "metadata": {
        "id": "view-in-github",
        "colab_type": "text"
      },
      "source": [
        "<a href=\"https://colab.research.google.com/github/sxbast1an/PROGCOM-A/blob/main/clase3_funciones.ipynb\" target=\"_parent\"><img src=\"https://colab.research.google.com/assets/colab-badge.svg\" alt=\"Open In Colab\"/></a>"
      ]
    },
    {
      "cell_type": "markdown",
      "source": [
        "FUNCIONES"
      ],
      "metadata": {
        "id": "PUQgTKuW6ibc"
      }
    },
    {
      "cell_type": "markdown",
      "source": [
        "Copiado deinamico .dio nacimiento a un nuevo programa de programacion llamado programacion modular\n"
      ],
      "metadata": {
        "id": "MNgzOydr6mOc"
      }
    },
    {
      "cell_type": "markdown",
      "source": [
        "forma general de programar funciones.\n",
        "\n",
        "def(nombre_de_funcion)(p,p2,p3...pn):\n",
        "  donde p, p2, p3...pn: son parametros\n",
        "\n",
        "\n",
        "  1.list()\n",
        "  2.len()\n",
        "  3.print()\n",
        "  4.append()#metodo\n",
        "  5.int()\n",
        "  6.input()\n",
        "\n",
        "  TIPO DE FUNCIONES\n",
        "  1. sin parametros, sin retorno\n",
        "  2. sin parametro, con retorno\n",
        "  3. con parametro, sin retorno\n",
        "  4. con parametro, con retorno\n",
        "  "
      ],
      "metadata": {
        "id": "x5Me85jU69kk"
      }
    },
    {
      "cell_type": "code",
      "execution_count": null,
      "metadata": {
        "id": "PGcMZosm6K_X"
      },
      "outputs": [],
      "source": [
        "#ejemplo: Entrada de cajero electronico\n",
        "def cajero2():# esto significa que es sin parametro\n",
        "  print(\"Bienvenido a daviUNAB\")\n",
        "  print(\"Estas son las operaciones que puede realizar\")\n",
        "  print(\"1. Retirar\\n2. transferencia\\n3. denunciar\\n4. operaciones sin tarjeta\\n5\")\n",
        "  rta=input(\"ingrse una opcion \")#variable local\n",
        "  return rta#vuela de una variable local a global"
      ]
    },
    {
      "cell_type": "markdown",
      "source": [
        "3. con parametro, sin retorno"
      ],
      "metadata": {
        "id": "UGD_KiS7AP9w"
      }
    },
    {
      "cell_type": "code",
      "source": [
        "#ejemplo: el area de un rectangulo\n",
        "def area_rectangulo(u,du):\n",
        "  return f\"El area de un rectangulo de base {u} y altura {du} es {u*du}\""
      ],
      "metadata": {
        "id": "C5RwALNj_n0S"
      },
      "execution_count": 5,
      "outputs": []
    },
    {
      "cell_type": "code",
      "source": [
        "area_rectangulo(10,15)"
      ],
      "metadata": {
        "colab": {
          "base_uri": "https://localhost:8080/",
          "height": 35
        },
        "id": "dB9B5qPLACbA",
        "outputId": "8a3bf134-3fe1-42ac-b343-0a6da2554cf3"
      },
      "execution_count": 6,
      "outputs": [
        {
          "output_type": "execute_result",
          "data": {
            "text/plain": [
              "'El area de un rectangulo de base 10 y altura 15 es 150'"
            ],
            "application/vnd.google.colaboratory.intrinsic+json": {
              "type": "string"
            }
          },
          "metadata": {},
          "execution_count": 6
        }
      ]
    },
    {
      "cell_type": "code",
      "source": [
        "print(a)"
      ],
      "metadata": {
        "colab": {
          "base_uri": "https://localhost:8080/",
          "height": 141
        },
        "id": "BixpRiu8AHfw",
        "outputId": "55c68c2d-3a0b-4aad-8bfe-d08185b92087"
      },
      "execution_count": 13,
      "outputs": [
        {
          "output_type": "error",
          "ename": "NameError",
          "evalue": "name 'a' is not defined",
          "traceback": [
            "\u001b[0;31m---------------------------------------------------------------------------\u001b[0m",
            "\u001b[0;31mNameError\u001b[0m                                 Traceback (most recent call last)",
            "\u001b[0;32m/tmp/ipython-input-1189138062.py\u001b[0m in \u001b[0;36m<cell line: 0>\u001b[0;34m()\u001b[0m\n\u001b[0;32m----> 1\u001b[0;31m \u001b[0mprint\u001b[0m\u001b[0;34m(\u001b[0m\u001b[0ma\u001b[0m\u001b[0;34m)\u001b[0m\u001b[0;34m\u001b[0m\u001b[0;34m\u001b[0m\u001b[0m\n\u001b[0m",
            "\u001b[0;31mNameError\u001b[0m: name 'a' is not defined"
          ]
        }
      ]
    },
    {
      "cell_type": "markdown",
      "source": [
        "##funciones anonimas o lambda\n",
        "\n",
        "1.  siempre usan parametros\n",
        "2.  siempre genera retorno\n",
        "3. no tienen nombre -->anonimas\n",
        "4.  **se puede emplear n parametros, pero solo ejecuta una linea de codigo**\n",
        "\n",
        "###definicion de funcion LAMBDA\n",
        "\n",
        "```\n",
        "variable=lambda (p, p1, p2,...pn): operacion\n",
        "```\n",
        "\n"
      ],
      "metadata": {
        "id": "KQrXIgD2AL2Y"
      }
    },
    {
      "cell_type": "code",
      "source": [
        "#ejemplo: calcular el area de un triangulo\n",
        "area_triangulo=lambda a,b:a*b/2"
      ],
      "metadata": {
        "id": "VcGrB5BAECMG"
      },
      "execution_count": 11,
      "outputs": []
    },
    {
      "cell_type": "code",
      "source": [
        "area_triangulo(3,8)"
      ],
      "metadata": {
        "colab": {
          "base_uri": "https://localhost:8080/"
        },
        "id": "Lcqgam_qETSd",
        "outputId": "7c75ebd3-c22a-4952-e667-442decb3f315"
      },
      "execution_count": 12,
      "outputs": [
        {
          "output_type": "execute_result",
          "data": {
            "text/plain": [
              "12.0"
            ]
          },
          "metadata": {},
          "execution_count": 12
        }
      ]
    }
  ]
}