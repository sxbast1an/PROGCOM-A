{
  "nbformat": 4,
  "nbformat_minor": 0,
  "metadata": {
    "colab": {
      "provenance": [],
      "authorship_tag": "ABX9TyOXRH4XgIUfANTIYiQMuZ1t",
      "include_colab_link": true
    },
    "kernelspec": {
      "name": "python3",
      "display_name": "Python 3"
    },
    "language_info": {
      "name": "python"
    }
  },
  "cells": [
    {
      "cell_type": "markdown",
      "metadata": {
        "id": "view-in-github",
        "colab_type": "text"
      },
      "source": [
        "<a href=\"https://colab.research.google.com/github/sxbast1an/PROGCOM-A/blob/main/CQ7(OBLIGATORIA).ipynb\" target=\"_parent\"><img src=\"https://colab.research.google.com/assets/colab-badge.svg\" alt=\"Open In Colab\"/></a>"
      ]
    },
    {
      "cell_type": "code",
      "execution_count": 8,
      "metadata": {
        "colab": {
          "base_uri": "https://localhost:8080/"
        },
        "id": "dGPCMa4wK9pz",
        "outputId": "1ea657a2-3fde-4084-bab4-23a110d50f9c"
      },
      "outputs": [
        {
          "output_type": "stream",
          "name": "stdout",
          "text": [
            "Inactive\n"
          ]
        }
      ],
      "source": [
        "is_active = False\n",
        "if is_active:\n",
        "    print(\"Active\")\n",
        "else:\n",
        "    print(\"Inactive\")\n"
      ]
    },
    {
      "cell_type": "code",
      "source": [
        "result = None\n",
        "if result is None:\n",
        "    print(\"No result\")\n"
      ],
      "metadata": {
        "colab": {
          "base_uri": "https://localhost:8080/"
        },
        "id": "c6VyChkaLBo5",
        "outputId": "97d0d3b5-8703-4d99-a6af-2baf82f05b6d"
      },
      "execution_count": 9,
      "outputs": [
        {
          "output_type": "stream",
          "name": "stdout",
          "text": [
            "No result\n"
          ]
        }
      ]
    },
    {
      "cell_type": "code",
      "source": [
        "is_valid = True\n",
        "if is_valid:\n",
        "    print(\"Valid\")\n"
      ],
      "metadata": {
        "colab": {
          "base_uri": "https://localhost:8080/"
        },
        "id": "Rpq3V8TZLBkr",
        "outputId": "eb09f260-cd0e-4935-9052-e0864da52177"
      },
      "execution_count": 10,
      "outputs": [
        {
          "output_type": "stream",
          "name": "stdout",
          "text": [
            "Valid\n"
          ]
        }
      ]
    },
    {
      "cell_type": "code",
      "source": [
        "if x > 0 and y > 0:\n",
        "    print(\"Both are positive\")\n"
      ],
      "metadata": {
        "id": "QAWFeEY9Lyq5"
      },
      "execution_count": null,
      "outputs": []
    },
    {
      "cell_type": "code",
      "source": [
        "import math as m\n",
        "print(m.sqrt(16))\n"
      ],
      "metadata": {
        "colab": {
          "base_uri": "https://localhost:8080/"
        },
        "id": "PX5_ez5ILBeR",
        "outputId": "44fa0d8c-480e-4c81-cf0f-ec20a05b53ad"
      },
      "execution_count": 13,
      "outputs": [
        {
          "output_type": "stream",
          "name": "stdout",
          "text": [
            "4.0\n"
          ]
        }
      ]
    },
    {
      "cell_type": "code",
      "source": [
        "assert x > 0, \"x must be positive\"\n"
      ],
      "metadata": {
        "id": "LFq3VmJzLBbR"
      },
      "execution_count": 14,
      "outputs": []
    },
    {
      "cell_type": "code",
      "source": [
        "for i in range(10):\n",
        "    if i == 5:\n",
        "        break\n",
        "    print(i)\n"
      ],
      "metadata": {
        "colab": {
          "base_uri": "https://localhost:8080/"
        },
        "id": "jaTwy-WVLBYb",
        "outputId": "78c8af84-9089-46a6-c346-fa4f7bb55eb8"
      },
      "execution_count": 15,
      "outputs": [
        {
          "output_type": "stream",
          "name": "stdout",
          "text": [
            "0\n",
            "1\n",
            "2\n",
            "3\n",
            "4\n"
          ]
        }
      ]
    },
    {
      "cell_type": "code",
      "source": [
        "class Person:\n",
        "    def __init__(self, name, age):\n",
        "        self.name = name\n",
        "        self.age = age\n"
      ],
      "metadata": {
        "id": "GGmIDpy0LBVk"
      },
      "execution_count": 16,
      "outputs": []
    },
    {
      "cell_type": "code",
      "source": [
        "for i in range(10):\n",
        "    if i % 2 == 0:\n",
        "        continue\n",
        "    print(i)\n"
      ],
      "metadata": {
        "colab": {
          "base_uri": "https://localhost:8080/"
        },
        "id": "IPfKLb4hLBSs",
        "outputId": "dd70dc6f-0e1b-4eec-a3b9-4d64d12ed20e"
      },
      "execution_count": 17,
      "outputs": [
        {
          "output_type": "stream",
          "name": "stdout",
          "text": [
            "1\n",
            "3\n",
            "5\n",
            "7\n",
            "9\n"
          ]
        }
      ]
    },
    {
      "cell_type": "code",
      "source": [
        "def greet(name):\n",
        "    return f\"Hello, {name}!\"\n"
      ],
      "metadata": {
        "id": "owytY4F8LZfh"
      },
      "execution_count": 18,
      "outputs": []
    },
    {
      "cell_type": "code",
      "source": [
        "x = 10\n",
        "del x\n",
        "\n"
      ],
      "metadata": {
        "id": "fLzSIbx1LBPp"
      },
      "execution_count": 19,
      "outputs": []
    },
    {
      "cell_type": "code",
      "source": [
        "if x > 0:\n",
        "    print(\"Positive\")\n",
        "elif x == 0:\n",
        "    print(\"Zero\")\n",
        "else:\n",
        "    print(\"Negative\")"
      ],
      "metadata": {
        "id": "1a0Ng_aGL3nR"
      },
      "execution_count": null,
      "outputs": []
    },
    {
      "cell_type": "code",
      "source": [
        "try:\n",
        "    x = 1 / 0\n",
        "except ZeroDivisionError:\n",
        "    print(\"Cannot divide by zero\")\n"
      ],
      "metadata": {
        "colab": {
          "base_uri": "https://localhost:8080/"
        },
        "id": "_sdlod1aLBJ5",
        "outputId": "ed92374c-c0ea-49d6-fdc9-9cf84ea2ca61"
      },
      "execution_count": 21,
      "outputs": [
        {
          "output_type": "stream",
          "name": "stdout",
          "text": [
            "Cannot divide by zero\n"
          ]
        }
      ]
    },
    {
      "cell_type": "code",
      "source": [
        "try:\n",
        "    x = 1 / 0\n",
        "except ZeroDivisionError:\n",
        "    print(\"Error!\")\n",
        "finally:\n",
        "    print(\"This will always run\")\n"
      ],
      "metadata": {
        "colab": {
          "base_uri": "https://localhost:8080/"
        },
        "id": "nrjs9t43LBHB",
        "outputId": "73905748-00a5-4f12-aef1-3053b7a1e3ff"
      },
      "execution_count": 22,
      "outputs": [
        {
          "output_type": "stream",
          "name": "stdout",
          "text": [
            "Error!\n",
            "This will always run\n"
          ]
        }
      ]
    },
    {
      "cell_type": "code",
      "source": [
        "for i in range(5):\n",
        "    print(i)\n"
      ],
      "metadata": {
        "colab": {
          "base_uri": "https://localhost:8080/"
        },
        "id": "1RNKTwRCLBD5",
        "outputId": "816cc0d7-19c0-45c1-803a-5ba0f619d8e6"
      },
      "execution_count": 5,
      "outputs": [
        {
          "output_type": "stream",
          "name": "stdout",
          "text": [
            "0\n",
            "1\n",
            "2\n",
            "3\n",
            "4\n"
          ]
        }
      ]
    },
    {
      "cell_type": "code",
      "source": [
        "from math import sqrt\n",
        "print(sqrt(16))\n"
      ],
      "metadata": {
        "colab": {
          "base_uri": "https://localhost:8080/"
        },
        "id": "byNZK_PyLBBJ",
        "outputId": "c4222763-24aa-4de3-aa5d-1d0ad083af1b"
      },
      "execution_count": 6,
      "outputs": [
        {
          "output_type": "stream",
          "name": "stdout",
          "text": [
            "4.0\n"
          ]
        }
      ]
    },
    {
      "cell_type": "code",
      "source": [
        "x = 10\n",
        "\n",
        "def change_global():\n",
        "    global x\n",
        "    x = 20\n",
        "\n",
        "change_global()\n",
        "print(x)\n"
      ],
      "metadata": {
        "colab": {
          "base_uri": "https://localhost:8080/"
        },
        "id": "qEF3ie9pLA-J",
        "outputId": "7a19bf64-677c-418c-f00a-61324bc49ad5"
      },
      "execution_count": 7,
      "outputs": [
        {
          "output_type": "stream",
          "name": "stdout",
          "text": [
            "20\n"
          ]
        }
      ]
    },
    {
      "cell_type": "code",
      "source": [
        "if x > 0:\n",
        "    print(\"Positive\")\n"
      ],
      "metadata": {
        "colab": {
          "base_uri": "https://localhost:8080/",
          "height": 159
        },
        "id": "DdG4VDMTLA7R",
        "outputId": "026f5596-5e8f-41c5-e0e3-d50ea4b92490"
      },
      "execution_count": 23,
      "outputs": [
        {
          "output_type": "error",
          "ename": "NameError",
          "evalue": "name 'x' is not defined",
          "traceback": [
            "\u001b[0;31m---------------------------------------------------------------------------\u001b[0m",
            "\u001b[0;31mNameError\u001b[0m                                 Traceback (most recent call last)",
            "\u001b[0;32m/tmp/ipython-input-199689937.py\u001b[0m in \u001b[0;36m<cell line: 0>\u001b[0;34m()\u001b[0m\n\u001b[0;32m----> 1\u001b[0;31m \u001b[0;32mif\u001b[0m \u001b[0mx\u001b[0m \u001b[0;34m>\u001b[0m \u001b[0;36m0\u001b[0m\u001b[0;34m:\u001b[0m\u001b[0;34m\u001b[0m\u001b[0;34m\u001b[0m\u001b[0m\n\u001b[0m\u001b[1;32m      2\u001b[0m     \u001b[0mprint\u001b[0m\u001b[0;34m(\u001b[0m\u001b[0;34m\"Positive\"\u001b[0m\u001b[0;34m)\u001b[0m\u001b[0;34m\u001b[0m\u001b[0;34m\u001b[0m\u001b[0m\n",
            "\u001b[0;31mNameError\u001b[0m: name 'x' is not defined"
          ]
        }
      ]
    },
    {
      "cell_type": "code",
      "source": [
        "import math\n",
        "print(math.sqrt(16))\n"
      ],
      "metadata": {
        "colab": {
          "base_uri": "https://localhost:8080/"
        },
        "id": "-qBI4xo5LA4S",
        "outputId": "5897cb3a-8c88-4c43-aaa0-2362cec2aa1f"
      },
      "execution_count": 24,
      "outputs": [
        {
          "output_type": "stream",
          "name": "stdout",
          "text": [
            "4.0\n"
          ]
        }
      ]
    }
  ]
}