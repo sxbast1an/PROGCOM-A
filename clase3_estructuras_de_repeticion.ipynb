{
  "nbformat": 4,
  "nbformat_minor": 0,
  "metadata": {
    "colab": {
      "provenance": [],
      "authorship_tag": "ABX9TyPd2TDqdvK5lzuQ6kzpC7H6",
      "include_colab_link": true
    },
    "kernelspec": {
      "name": "python3",
      "display_name": "Python 3"
    },
    "language_info": {
      "name": "python"
    }
  },
  "cells": [
    {
      "cell_type": "markdown",
      "metadata": {
        "id": "view-in-github",
        "colab_type": "text"
      },
      "source": [
        "<a href=\"https://colab.research.google.com/github/sxbast1an/PROGCOM-A/blob/main/clase3_estructuras_de_repeticion.ipynb\" target=\"_parent\"><img src=\"https://colab.research.google.com/assets/colab-badge.svg\" alt=\"Open In Colab\"/></a>"
      ]
    },
    {
      "cell_type": "markdown",
      "source": [
        "#esctructuras de repeticion\n",
        "permite repetir una o mas acciones deacuerdo con una condicion (mientras se cumpla la condicion)\n"
      ],
      "metadata": {
        "id": "dE-GCMOpQ0Rw"
      }
    },
    {
      "cell_type": "markdown",
      "source": [
        "##estructura para - for\n",
        "\n",
        "\n",
        "1.   cuando se sabe cuantas veces se repite una accion.\n",
        "2.   esta conformado por una condicion inicial (CI) una condicion final (CF) y pasos  ( frecuencia de repeticon)\n",
        "3.   esta estructura no se detendra, hasta alcanzar CF-1\n",
        "\n",
        "Estructura general del for\n",
        "```\n",
        "for (variable) in range (CI, CF+1 PASO):\n",
        "  Se repite (CF+1-CI)/ paso veces una accion\n",
        "```\n",
        "Estrcutura resultada del for\n",
        "\n",
        "```\n",
        "se repite contidad de veces una accion\n",
        "```\n",
        "\n",
        "estructura for como iteracion\n",
        "1.   El para (FOR) itera el valor de cada elemento de la lista por interacion\n",
        "```\n",
        "LISTA= [1,2,3,4,5]\n",
        "for (variable) in lista:\n",
        "  Se repite len(lista)\n",
        "```\n",
        "\n",
        "\n",
        "\n",
        "\n",
        "\n",
        "\n",
        "\n",
        "\n",
        "\n"
      ],
      "metadata": {
        "id": "XUbf0sAFRO8e"
      }
    },
    {
      "cell_type": "code",
      "execution_count": null,
      "metadata": {
        "colab": {
          "base_uri": "https://localhost:8080/"
        },
        "id": "NQsAaYrYQO-z",
        "outputId": "3f912d7d-0b43-4f90-ec57-5b8362988b98"
      },
      "outputs": [
        {
          "name": "stdout",
          "output_type": "stream",
          "text": [
            "digite un numero7\n"
          ]
        }
      ],
      "source": [
        "#hacer la tabla de multiplicar de un numero n\n",
        "n=int(input(\"digite un numero\"))"
      ]
    },
    {
      "cell_type": "code",
      "source": [
        "print (f\"tabla del  {n}\")\n",
        "for holitas in range (1,11,1):\n",
        "  print(f\"{n} x {holitas} = {n*holitas}\")"
      ],
      "metadata": {
        "colab": {
          "base_uri": "https://localhost:8080/"
        },
        "id": "kP1ZqNCrUGMj",
        "outputId": "89ac4d5f-19ac-48a4-8d26-15f1bb7e0244"
      },
      "execution_count": null,
      "outputs": [
        {
          "output_type": "stream",
          "name": "stdout",
          "text": [
            "tabla del  7\n",
            "7 x 1 = 7\n",
            "7 x 2 = 14\n",
            "7 x 3 = 21\n",
            "7 x 4 = 28\n",
            "7 x 5 = 35\n",
            "7 x 6 = 42\n",
            "7 x 7 = 49\n",
            "7 x 8 = 56\n",
            "7 x 9 = 63\n",
            "7 x 10 = 70\n"
          ]
        }
      ]
    },
    {
      "cell_type": "code",
      "source": [
        "#tablas de multiplicar del 1 al 10\n",
        "\n",
        "for n in range(1, 11):\n",
        "  print(f\"/ntabla del {n}\")\n",
        "  for holitas in range(1, 11):\n",
        "    print(f\"{n} x {holitas} = {n * holitas}\")\n",
        "  print(\"\")"
      ],
      "metadata": {
        "colab": {
          "base_uri": "https://localhost:8080/"
        },
        "id": "Z_YB-JxWVaHa",
        "outputId": "1113a269-3da3-4a19-b9bf-28ea2372e285"
      },
      "execution_count": null,
      "outputs": [
        {
          "output_type": "stream",
          "name": "stdout",
          "text": [
            "/ntabla del 1\n",
            "1 x 1 = 1\n",
            "1 x 2 = 2\n",
            "1 x 3 = 3\n",
            "1 x 4 = 4\n",
            "1 x 5 = 5\n",
            "1 x 6 = 6\n",
            "1 x 7 = 7\n",
            "1 x 8 = 8\n",
            "1 x 9 = 9\n",
            "1 x 10 = 10\n",
            "\n",
            "/ntabla del 2\n",
            "2 x 1 = 2\n",
            "2 x 2 = 4\n",
            "2 x 3 = 6\n",
            "2 x 4 = 8\n",
            "2 x 5 = 10\n",
            "2 x 6 = 12\n",
            "2 x 7 = 14\n",
            "2 x 8 = 16\n",
            "2 x 9 = 18\n",
            "2 x 10 = 20\n",
            "\n",
            "/ntabla del 3\n",
            "3 x 1 = 3\n",
            "3 x 2 = 6\n",
            "3 x 3 = 9\n",
            "3 x 4 = 12\n",
            "3 x 5 = 15\n",
            "3 x 6 = 18\n",
            "3 x 7 = 21\n",
            "3 x 8 = 24\n",
            "3 x 9 = 27\n",
            "3 x 10 = 30\n",
            "\n",
            "/ntabla del 4\n",
            "4 x 1 = 4\n",
            "4 x 2 = 8\n",
            "4 x 3 = 12\n",
            "4 x 4 = 16\n",
            "4 x 5 = 20\n",
            "4 x 6 = 24\n",
            "4 x 7 = 28\n",
            "4 x 8 = 32\n",
            "4 x 9 = 36\n",
            "4 x 10 = 40\n",
            "\n",
            "/ntabla del 5\n",
            "5 x 1 = 5\n",
            "5 x 2 = 10\n",
            "5 x 3 = 15\n",
            "5 x 4 = 20\n",
            "5 x 5 = 25\n",
            "5 x 6 = 30\n",
            "5 x 7 = 35\n",
            "5 x 8 = 40\n",
            "5 x 9 = 45\n",
            "5 x 10 = 50\n",
            "\n",
            "/ntabla del 6\n",
            "6 x 1 = 6\n",
            "6 x 2 = 12\n",
            "6 x 3 = 18\n",
            "6 x 4 = 24\n",
            "6 x 5 = 30\n",
            "6 x 6 = 36\n",
            "6 x 7 = 42\n",
            "6 x 8 = 48\n",
            "6 x 9 = 54\n",
            "6 x 10 = 60\n",
            "\n",
            "/ntabla del 7\n",
            "7 x 1 = 7\n",
            "7 x 2 = 14\n",
            "7 x 3 = 21\n",
            "7 x 4 = 28\n",
            "7 x 5 = 35\n",
            "7 x 6 = 42\n",
            "7 x 7 = 49\n",
            "7 x 8 = 56\n",
            "7 x 9 = 63\n",
            "7 x 10 = 70\n",
            "\n",
            "/ntabla del 8\n",
            "8 x 1 = 8\n",
            "8 x 2 = 16\n",
            "8 x 3 = 24\n",
            "8 x 4 = 32\n",
            "8 x 5 = 40\n",
            "8 x 6 = 48\n",
            "8 x 7 = 56\n",
            "8 x 8 = 64\n",
            "8 x 9 = 72\n",
            "8 x 10 = 80\n",
            "\n",
            "/ntabla del 9\n",
            "9 x 1 = 9\n",
            "9 x 2 = 18\n",
            "9 x 3 = 27\n",
            "9 x 4 = 36\n",
            "9 x 5 = 45\n",
            "9 x 6 = 54\n",
            "9 x 7 = 63\n",
            "9 x 8 = 72\n",
            "9 x 9 = 81\n",
            "9 x 10 = 90\n",
            "\n",
            "/ntabla del 10\n",
            "10 x 1 = 10\n",
            "10 x 2 = 20\n",
            "10 x 3 = 30\n",
            "10 x 4 = 40\n",
            "10 x 5 = 50\n",
            "10 x 6 = 60\n",
            "10 x 7 = 70\n",
            "10 x 8 = 80\n",
            "10 x 9 = 90\n",
            "10 x 10 = 100\n",
            "\n"
          ]
        }
      ]
    },
    {
      "cell_type": "code",
      "source": [
        "numeros=[ 1,2,3,4,5,6,7,8,9.10]\n",
        "for num in numeros:\n",
        "    print(f\"{n} x {num} = {n*num}\")"
      ],
      "metadata": {
        "colab": {
          "base_uri": "https://localhost:8080/"
        },
        "id": "E1968BzeWhrA",
        "outputId": "5a49822e-bad1-4714-8dcf-6d1e4556a941"
      },
      "execution_count": null,
      "outputs": [
        {
          "output_type": "stream",
          "name": "stdout",
          "text": [
            "10 x 1 = 10\n",
            "10 x 2 = 20\n",
            "10 x 3 = 30\n",
            "10 x 4 = 40\n",
            "10 x 5 = 50\n",
            "10 x 6 = 60\n",
            "10 x 7 = 70\n",
            "10 x 8 = 80\n",
            "10 x 9.1 = 91.0\n"
          ]
        }
      ]
    },
    {
      "cell_type": "markdown",
      "source": [
        "##listas\n",
        "1.   es un tipo de datos\n",
        "2.   todos los elementos de una lista,**deben** separarse por coma\n",
        "3.   forma canonica para declarar una lista\n",
        "\n",
        "\n",
        "```\n",
        "(variable)\n",
        "```\n",
        "ejemplo:\n",
        "flores=[\"amapola\" ,\"tulipan\", \"lengua de suegra\", dahlia, rosa]\n",
        "\n",
        "\n",
        "\n"
      ],
      "metadata": {
        "id": "d6k6WdBFxhR_"
      }
    },
    {
      "cell_type": "code",
      "source": [
        "dahila=3 #variable de tipo numerica, int\n",
        "rosa=\"cinco\"#variable de tipo alfanumerico, str\n",
        "flores=[\"amapola\", \"tulipan\", \"lengua de suegra\", dahila, rosa]"
      ],
      "metadata": {
        "id": "0vgyCMury4zF"
      },
      "execution_count": null,
      "outputs": []
    },
    {
      "cell_type": "markdown",
      "source": [
        "4. manual\n",
        "\n",
        "```\n",
        "lista2=[dato1, dato2, dato3...datoN]\n",
        "\n",
        "```\n",
        "5. siempre son finitas\n",
        "6. son indexada\n",
        "```\n",
        "listas2=[dato1, dato2, dato3...datoN]\n",
        "\n",
        "```\n",
        "\n",
        "dato1 esta en el index 0\n",
        "dato 2 esta ubicado en el index 1\n",
        "7. estructura **para** para la creacion de listas\n",
        "creacion de listas\n",
        "\n",
        "```\n",
        "#ejemplo: crear una lista de 5 elementos\n",
        "\n",
        "lista=[]#para que el programa sepa que es una lista\n",
        "\n",
        "for loquesea in range(5):\n",
        "```\n",
        "\n",
        "\n"
      ],
      "metadata": {
        "id": "NkwFWfO0zgY9"
      }
    },
    {
      "cell_type": "code",
      "source": [
        "lista=[]\n",
        "for loquesea in range (5):\n",
        "    lista=input(\"ingrese el nombre de una flor\")"
      ],
      "metadata": {
        "colab": {
          "base_uri": "https://localhost:8080/"
        },
        "id": "K2EWLF2G1BVL",
        "outputId": "38ce971b-dbc8-4724-9b1b-848710e7b25a"
      },
      "execution_count": 3,
      "outputs": [
        {
          "name": "stdout",
          "output_type": "stream",
          "text": [
            "ingrese el nombre de una flor rosa \n",
            "ingrese el nombre de una flor lengua de suegra\n",
            "ingrese el nombre de una flor siete cueros \n",
            "ingrese el nombre de una flortulipan\n",
            "ingrese el nombre de una flormargarita\n"
          ]
        }
      ]
    },
    {
      "cell_type": "code",
      "source": [
        "lista=[]\n",
        "for loquesea in range (5):\n",
        "    lista.append(loquesea)"
      ],
      "metadata": {
        "id": "WM4rzkzA5kWY"
      },
      "execution_count": 14,
      "outputs": []
    },
    {
      "cell_type": "code",
      "source": [
        "lista"
      ],
      "metadata": {
        "colab": {
          "base_uri": "https://localhost:8080/"
        },
        "id": "nJRwXpDx7Mdg",
        "outputId": "0bf5fdba-686f-4904-97ff-52d52c28c20b"
      },
      "execution_count": 15,
      "outputs": [
        {
          "output_type": "execute_result",
          "data": {
            "text/plain": [
              "[0, 1, 2, 3, 4]"
            ]
          },
          "metadata": {},
          "execution_count": 15
        }
      ]
    },
    {
      "cell_type": "code",
      "source": [
        "loquesea"
      ],
      "metadata": {
        "colab": {
          "base_uri": "https://localhost:8080/"
        },
        "id": "PvIQZZd57QdW",
        "outputId": "4b6b6fbe-8c37-439e-8037-aabd9fcb158c"
      },
      "execution_count": 16,
      "outputs": [
        {
          "output_type": "execute_result",
          "data": {
            "text/plain": [
              "4"
            ]
          },
          "metadata": {},
          "execution_count": 16
        }
      ]
    },
    {
      "cell_type": "code",
      "source": [
        "type(lista)"
      ],
      "metadata": {
        "colab": {
          "base_uri": "https://localhost:8080/"
        },
        "id": "EKSF8TLF7rPu",
        "outputId": "b0fb67fe-ecb0-4875-b6b6-81c4908e60ed"
      },
      "execution_count": 20,
      "outputs": [
        {
          "output_type": "execute_result",
          "data": {
            "text/plain": [
              "list"
            ]
          },
          "metadata": {},
          "execution_count": 20
        }
      ]
    },
    {
      "cell_type": "markdown",
      "source": [
        "1."
      ],
      "metadata": {
        "id": "dcOfbkc3-_fs"
      }
    },
    {
      "cell_type": "code",
      "source": [
        "for i in range(1, 11):\n",
        "    print(i)"
      ],
      "metadata": {
        "colab": {
          "base_uri": "https://localhost:8080/"
        },
        "id": "797Uigb-9w0s",
        "outputId": "55f90bf9-2e0e-4922-b800-8ae8a162c1fb"
      },
      "execution_count": 23,
      "outputs": [
        {
          "output_type": "stream",
          "name": "stdout",
          "text": [
            "1\n",
            "2\n",
            "3\n",
            "4\n",
            "5\n",
            "6\n",
            "7\n",
            "8\n",
            "9\n",
            "10\n"
          ]
        }
      ]
    },
    {
      "cell_type": "code",
      "source": [
        "numeros = list(range(1, 11))\n",
        "print(numeros)"
      ],
      "metadata": {
        "colab": {
          "base_uri": "https://localhost:8080/"
        },
        "id": "jeg21fie-zoL",
        "outputId": "a5f9a08c-9d47-41a9-9016-865f52d1f8ff"
      },
      "execution_count": 24,
      "outputs": [
        {
          "output_type": "stream",
          "name": "stdout",
          "text": [
            "[1, 2, 3, 4, 5, 6, 7, 8, 9, 10]\n"
          ]
        }
      ]
    },
    {
      "cell_type": "markdown",
      "source": [
        "2."
      ],
      "metadata": {
        "id": "Qm6wQthN_DiL"
      }
    },
    {
      "cell_type": "code",
      "source": [
        "suma = 0\n",
        "for i in range(1, 101):\n",
        "    suma += i\n",
        "print(\"Suma:\", suma)"
      ],
      "metadata": {
        "colab": {
          "base_uri": "https://localhost:8080/"
        },
        "id": "QJVZM4L8_EWr",
        "outputId": "092a7f0a-ff6f-45b2-cfa7-b67304495d6e"
      },
      "execution_count": 25,
      "outputs": [
        {
          "output_type": "stream",
          "name": "stdout",
          "text": [
            "Suma: 5050\n"
          ]
        }
      ]
    },
    {
      "cell_type": "code",
      "source": [
        "suma = sum(list(range(1, 101)))\n",
        "print(\"Suma:\", suma)"
      ],
      "metadata": {
        "colab": {
          "base_uri": "https://localhost:8080/"
        },
        "id": "-Z-IR_z0_IwC",
        "outputId": "1cbf10e1-358d-4bc4-83a7-8399d930a203"
      },
      "execution_count": 26,
      "outputs": [
        {
          "output_type": "stream",
          "name": "stdout",
          "text": [
            "Suma: 5050\n"
          ]
        }
      ]
    },
    {
      "cell_type": "markdown",
      "source": [
        "3."
      ],
      "metadata": {
        "id": "b7H5nrXf_MEK"
      }
    },
    {
      "cell_type": "code",
      "source": [
        "for i in range(1, 31):\n",
        "    if i % 3 == 0:\n",
        "        print(i)"
      ],
      "metadata": {
        "colab": {
          "base_uri": "https://localhost:8080/"
        },
        "id": "MU3pQbbD_LwL",
        "outputId": "fc3764e4-ccf7-4682-e79c-123b86687f53"
      },
      "execution_count": 27,
      "outputs": [
        {
          "output_type": "stream",
          "name": "stdout",
          "text": [
            "3\n",
            "6\n",
            "9\n",
            "12\n",
            "15\n",
            "18\n",
            "21\n",
            "24\n",
            "27\n",
            "30\n"
          ]
        }
      ]
    },
    {
      "cell_type": "code",
      "source": [
        "multiplos = [i for i in range(1, 31) if i % 3 == 0]\n",
        "print(multiplos)"
      ],
      "metadata": {
        "colab": {
          "base_uri": "https://localhost:8080/"
        },
        "id": "MX3xbRVg_PaT",
        "outputId": "92332fe0-6b11-41a0-cace-ea2d97c6f237"
      },
      "execution_count": 28,
      "outputs": [
        {
          "output_type": "stream",
          "name": "stdout",
          "text": [
            "[3, 6, 9, 12, 15, 18, 21, 24, 27, 30]\n"
          ]
        }
      ]
    },
    {
      "cell_type": "markdown",
      "source": [
        "4."
      ],
      "metadata": {
        "id": "qAx-tSEy_R3-"
      }
    },
    {
      "cell_type": "code",
      "source": [
        "n = int(input(\"Ingresa un número: \"))\n",
        "for i in range(1, 11):\n",
        "    print(f\"{n} x {i} = {n*i}\")"
      ],
      "metadata": {
        "colab": {
          "base_uri": "https://localhost:8080/"
        },
        "id": "4rDp2BaR_Rqb",
        "outputId": "d5d0ce51-4d80-4972-ebdb-ab8b48954049"
      },
      "execution_count": 29,
      "outputs": [
        {
          "output_type": "stream",
          "name": "stdout",
          "text": [
            "Ingresa un número: 6\n",
            "6 x 1 = 6\n",
            "6 x 2 = 12\n",
            "6 x 3 = 18\n",
            "6 x 4 = 24\n",
            "6 x 5 = 30\n",
            "6 x 6 = 36\n",
            "6 x 7 = 42\n",
            "6 x 8 = 48\n",
            "6 x 9 = 54\n",
            "6 x 10 = 60\n"
          ]
        }
      ]
    },
    {
      "cell_type": "code",
      "source": [
        "n = int(input(\"Ingresa un número: \"))\n",
        "tabla = [f\"{n} x {i} = {n*i}\" for i in range(1, 11)]\n",
        "print(\"\\n\".join(tabla))"
      ],
      "metadata": {
        "colab": {
          "base_uri": "https://localhost:8080/"
        },
        "id": "oCMv1GBL_W2s",
        "outputId": "f72c7e25-9969-4317-f58d-d8cb7682bfd0"
      },
      "execution_count": 30,
      "outputs": [
        {
          "output_type": "stream",
          "name": "stdout",
          "text": [
            "Ingresa un número: 8\n",
            "8 x 1 = 8\n",
            "8 x 2 = 16\n",
            "8 x 3 = 24\n",
            "8 x 4 = 32\n",
            "8 x 5 = 40\n",
            "8 x 6 = 48\n",
            "8 x 7 = 56\n",
            "8 x 8 = 64\n",
            "8 x 9 = 72\n",
            "8 x 10 = 80\n"
          ]
        }
      ]
    },
    {
      "cell_type": "markdown",
      "source": [
        "5."
      ],
      "metadata": {
        "id": "-J5rGjiu_btT"
      }
    },
    {
      "cell_type": "code",
      "source": [
        "suma = 0\n",
        "for i in range(5):\n",
        "    numero = float(input(f\"Ingrese número {i+1}: \"))\n",
        "    suma += numero\n",
        "promedio = suma / 5\n",
        "print(\"Promedio:\", promedio)"
      ],
      "metadata": {
        "colab": {
          "base_uri": "https://localhost:8080/"
        },
        "id": "x7DYGauG_d39",
        "outputId": "df6a0695-1f68-4ed1-feb4-3f69aed89447"
      },
      "execution_count": 33,
      "outputs": [
        {
          "output_type": "stream",
          "name": "stdout",
          "text": [
            "Ingrese número 1: 4\n",
            "Ingrese número 2: 7\n",
            "Ingrese número 3: 5\n",
            "Ingrese número 4: 4\n",
            "Ingrese número 5: 2\n",
            "Promedio: 4.4\n"
          ]
        }
      ]
    },
    {
      "cell_type": "code",
      "source": [
        "numeros = [float(input(f\"Ingrese número {i+1}: \")) for i in range(5)]\n",
        "promedio = sum(numeros) / len(numeros)\n",
        "print(\"Promedio:\", promedio)"
      ],
      "metadata": {
        "colab": {
          "base_uri": "https://localhost:8080/"
        },
        "id": "7f6PHpzn_lQG",
        "outputId": "25f8c402-4288-48b8-f95c-3436705ad089"
      },
      "execution_count": 34,
      "outputs": [
        {
          "output_type": "stream",
          "name": "stdout",
          "text": [
            "Ingrese número 1: 2\n",
            "Ingrese número 2: 5\n",
            "Ingrese número 3: 8\n",
            "Ingrese número 4: 9\n",
            "Ingrese número 5: 4\n",
            "Promedio: 5.6\n"
          ]
        }
      ]
    },
    {
      "cell_type": "markdown",
      "source": [
        "6."
      ],
      "metadata": {
        "id": "p93TG6al_pSr"
      }
    },
    {
      "cell_type": "code",
      "source": [
        "n = int(input(\"Ingresa un número: \"))\n",
        "contador = 0\n",
        "for i in range(1, n+1):\n",
        "    if i % 2 == 0:\n",
        "        contador += 1\n",
        "print(\"Cantidad de pares:\", contador)"
      ],
      "metadata": {
        "colab": {
          "base_uri": "https://localhost:8080/"
        },
        "id": "QGS_m281_s6y",
        "outputId": "d5264483-7402-4d49-ad09-336f7a11f492"
      },
      "execution_count": 35,
      "outputs": [
        {
          "output_type": "stream",
          "name": "stdout",
          "text": [
            "Ingresa un número: 5\n",
            "Cantidad de pares: 2\n"
          ]
        }
      ]
    },
    {
      "cell_type": "code",
      "source": [
        "n = int(input(\"Ingresa un número: \"))\n",
        "pares = [i for i in range(1, n+1) if i % 2 == 0]\n",
        "print(\"Cantidad de pares:\", len(pares))"
      ],
      "metadata": {
        "colab": {
          "base_uri": "https://localhost:8080/"
        },
        "id": "rcpl0CAE_pJ8",
        "outputId": "7ac2ecdc-cef6-42db-8e3c-8ccd4525f558"
      },
      "execution_count": 36,
      "outputs": [
        {
          "output_type": "stream",
          "name": "stdout",
          "text": [
            "Ingresa un número: 4\n",
            "Cantidad de pares: 2\n"
          ]
        }
      ]
    },
    {
      "cell_type": "markdown",
      "source": [
        "8."
      ],
      "metadata": {
        "id": "LzRddPLvAXhq"
      }
    },
    {
      "cell_type": "code",
      "source": [
        "n = int(input(\"¿Cuántos números de Fibonacci? \"))\n",
        "a, b = 0, 1\n",
        "for _ in range(n):\n",
        "    print(a)\n",
        "    a, b = b, a + b"
      ],
      "metadata": {
        "colab": {
          "base_uri": "https://localhost:8080/"
        },
        "id": "uHni-12mAXR7",
        "outputId": "ef982e21-d282-4c0c-b1fa-8063ddf422a3"
      },
      "execution_count": 38,
      "outputs": [
        {
          "output_type": "stream",
          "name": "stdout",
          "text": [
            "¿Cuántos números de Fibonacci? 5\n",
            "0\n",
            "1\n",
            "1\n",
            "2\n",
            "3\n"
          ]
        }
      ]
    },
    {
      "cell_type": "code",
      "source": [
        "n = int(input(\"¿Cuántos números de Fibonacci? \"))\n",
        "fibonacci = [0, 1]\n",
        "for i in range(2, n):\n",
        "    fibonacci.append(fibonacci[-1] + fibonacci[-2])\n",
        "print(fibonacci[:n])"
      ],
      "metadata": {
        "colab": {
          "base_uri": "https://localhost:8080/"
        },
        "id": "ouNg-l1AArbx",
        "outputId": "08773f0c-49ff-4ebb-b4e7-a4201265fae3"
      },
      "execution_count": 42,
      "outputs": [
        {
          "output_type": "stream",
          "name": "stdout",
          "text": [
            "¿Cuántos números de Fibonacci? 6\n",
            "[0, 1, 1, 2, 3, 5]\n"
          ]
        }
      ]
    }
  ]
}