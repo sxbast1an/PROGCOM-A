{
  "nbformat": 4,
  "nbformat_minor": 0,
  "metadata": {
    "colab": {
      "provenance": []
    },
    "kernelspec": {
      "name": "python3",
      "display_name": "Python 3"
    },
    "language_info": {
      "name": "python"
    }
  },
  "cells": [
    {
      "cell_type": "markdown",
      "source": [],
      "metadata": {
        "id": "9mnLdmNWKgOv"
      }
    },
    {
      "cell_type": "markdown",
      "source": [
        "##Estructura de seleccion  \n",
        "Aqui se desarrollaran ejercicios sobre estructuras de seleccion\n",
        "\n",
        "```\n",
        "si (condicion) entonces:\n",
        "  pasan cosas divertidas\n",
        "sino:\n",
        "  llorelo ☹\n",
        "\n",
        "```\n",
        "\n"
      ],
      "metadata": {
        "id": "Y9ciqcAkLZNm"
      }
    },
    {
      "cell_type": "code",
      "execution_count": null,
      "metadata": {
        "id": "eSco7hQPJcic"
      },
      "outputs": [],
      "source": []
    }
  ]
}