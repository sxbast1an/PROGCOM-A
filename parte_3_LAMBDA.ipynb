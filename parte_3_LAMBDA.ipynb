{
  "nbformat": 4,
  "nbformat_minor": 0,
  "metadata": {
    "colab": {
      "provenance": [],
      "authorship_tag": "ABX9TyPuo+mKmDuYZQtfyVHAZtD8",
      "include_colab_link": true
    },
    "kernelspec": {
      "name": "python3",
      "display_name": "Python 3"
    },
    "language_info": {
      "name": "python"
    }
  },
  "cells": [
    {
      "cell_type": "markdown",
      "metadata": {
        "id": "view-in-github",
        "colab_type": "text"
      },
      "source": [
        "<a href=\"https://colab.research.google.com/github/sxbast1an/PROGCOM-A/blob/main/parte_3_LAMBDA.ipynb\" target=\"_parent\"><img src=\"https://colab.research.google.com/assets/colab-badge.svg\" alt=\"Open In Colab\"/></a>"
      ]
    },
    {
      "cell_type": "markdown",
      "source": [
        "1)"
      ],
      "metadata": {
        "id": "NByubZfAlYdZ"
      }
    },
    {
      "cell_type": "code",
      "execution_count": 1,
      "metadata": {
        "id": "jHSwqjyYk1sR"
      },
      "outputs": [],
      "source": [
        "cuadrado = lambda x: x**2"
      ]
    },
    {
      "cell_type": "code",
      "source": [
        "print(cuadrado(5))"
      ],
      "metadata": {
        "colab": {
          "base_uri": "https://localhost:8080/"
        },
        "id": "OpDsJxmilTuY",
        "outputId": "4fc3ea2d-39e0-435b-94ba-f364481f3771"
      },
      "execution_count": 2,
      "outputs": [
        {
          "output_type": "stream",
          "name": "stdout",
          "text": [
            "25\n"
          ]
        }
      ]
    },
    {
      "cell_type": "code",
      "source": [
        "print(cuadrado(20))"
      ],
      "metadata": {
        "colab": {
          "base_uri": "https://localhost:8080/"
        },
        "id": "Klt3fUrGlVI3",
        "outputId": "842206fd-ffb3-48e2-c1cb-9870268d50f8"
      },
      "execution_count": 3,
      "outputs": [
        {
          "output_type": "stream",
          "name": "stdout",
          "text": [
            "400\n"
          ]
        }
      ]
    },
    {
      "cell_type": "markdown",
      "source": [
        "3)"
      ],
      "metadata": {
        "id": "eFbBM_YCle2o"
      }
    },
    {
      "cell_type": "code",
      "source": [
        "operaciones = lambda a, b: (a+b, a-b, a*b, a/b if b != 0 else \"0\")"
      ],
      "metadata": {
        "id": "2HpM1m6dlVc4"
      },
      "execution_count": 4,
      "outputs": []
    },
    {
      "cell_type": "code",
      "source": [
        "print(operaciones(7, 4))"
      ],
      "metadata": {
        "colab": {
          "base_uri": "https://localhost:8080/"
        },
        "id": "95shZZD1llYZ",
        "outputId": "2a954614-a00a-48bd-d2f7-77494779892a"
      },
      "execution_count": 5,
      "outputs": [
        {
          "output_type": "stream",
          "name": "stdout",
          "text": [
            "(11, 3, 28, 1.75)\n"
          ]
        }
      ]
    },
    {
      "cell_type": "code",
      "source": [
        "print(operaciones(12, 0))"
      ],
      "metadata": {
        "colab": {
          "base_uri": "https://localhost:8080/"
        },
        "id": "-uYvw6EiloQb",
        "outputId": "9376adba-c3b7-4e36-e757-d66cafb1dfe8"
      },
      "execution_count": 6,
      "outputs": [
        {
          "output_type": "stream",
          "name": "stdout",
          "text": [
            "(12, 12, 0, '0')\n"
          ]
        }
      ]
    },
    {
      "cell_type": "markdown",
      "source": [
        "4)"
      ],
      "metadata": {
        "id": "fMJaOV08ltZr"
      }
    },
    {
      "cell_type": "code",
      "source": [
        "mayor_edad = lambda edad: \"Mayor de edad\" if edad >= 18 else \"Menor de edad\""
      ],
      "metadata": {
        "id": "4JaBFaFyluWk"
      },
      "execution_count": 7,
      "outputs": []
    },
    {
      "cell_type": "code",
      "source": [
        "print(mayor_edad(25))"
      ],
      "metadata": {
        "colab": {
          "base_uri": "https://localhost:8080/"
        },
        "id": "Xag4mt9iluzW",
        "outputId": "e6cfe26a-08f5-4ff2-fc18-0208952d941f"
      },
      "execution_count": 8,
      "outputs": [
        {
          "output_type": "stream",
          "name": "stdout",
          "text": [
            "Mayor de edad\n"
          ]
        }
      ]
    },
    {
      "cell_type": "code",
      "source": [
        "print(mayor_edad(2))"
      ],
      "metadata": {
        "colab": {
          "base_uri": "https://localhost:8080/"
        },
        "id": "1JjdKxvVl0Tj",
        "outputId": "454a9588-db24-43cb-eace-2a5212348493"
      },
      "execution_count": 9,
      "outputs": [
        {
          "output_type": "stream",
          "name": "stdout",
          "text": [
            "Menor de edad\n"
          ]
        }
      ]
    },
    {
      "cell_type": "markdown",
      "source": [
        "5)"
      ],
      "metadata": {
        "id": "zwK9FV6zl7bV"
      }
    },
    {
      "cell_type": "code",
      "source": [
        "es_palindromo = lambda palabra: \"Es palíndromo\" if palabra.lower() == palabra.lower()[::-1] else \"No es palíndromo\""
      ],
      "metadata": {
        "id": "-x8675ozl8dV"
      },
      "execution_count": 10,
      "outputs": []
    },
    {
      "cell_type": "code",
      "source": [
        "print(es_palindromo(\"polvora\"))"
      ],
      "metadata": {
        "colab": {
          "base_uri": "https://localhost:8080/"
        },
        "id": "wCmCpckol8z-",
        "outputId": "20256e52-6063-42d6-e805-fd41cdb3d6c5"
      },
      "execution_count": 11,
      "outputs": [
        {
          "output_type": "stream",
          "name": "stdout",
          "text": [
            "No es palíndromo\n"
          ]
        }
      ]
    },
    {
      "cell_type": "code",
      "source": [
        "print(es_palindromo(\"oso\"))"
      ],
      "metadata": {
        "colab": {
          "base_uri": "https://localhost:8080/"
        },
        "id": "7rk4FD3Wl9Sl",
        "outputId": "56bb4c2a-8d84-4c2f-c31a-afda48363490"
      },
      "execution_count": 12,
      "outputs": [
        {
          "output_type": "stream",
          "name": "stdout",
          "text": [
            "Es palíndromo\n"
          ]
        }
      ]
    },
    {
      "cell_type": "markdown",
      "source": [
        "6)"
      ],
      "metadata": {
        "id": "PinT5uLVmFT_"
      }
    },
    {
      "cell_type": "code",
      "source": [
        "contar_vocales = lambda texto: sum(1 for c in texto if c in \"aeiouAEIOU\")"
      ],
      "metadata": {
        "id": "9S7E5OHxmGlG"
      },
      "execution_count": 13,
      "outputs": []
    },
    {
      "cell_type": "code",
      "source": [
        "print(contar_vocales(\"Hola a todos\"))"
      ],
      "metadata": {
        "colab": {
          "base_uri": "https://localhost:8080/"
        },
        "id": "cuYr8XgGmG1l",
        "outputId": "61b2f306-b28f-4341-9740-ce03ad2ce1cd"
      },
      "execution_count": 14,
      "outputs": [
        {
          "output_type": "stream",
          "name": "stdout",
          "text": [
            "5\n"
          ]
        }
      ]
    },
    {
      "cell_type": "code",
      "source": [
        "print(contar_vocales(\"bienvenido\"))"
      ],
      "metadata": {
        "colab": {
          "base_uri": "https://localhost:8080/"
        },
        "id": "qxHhjfe8mHFA",
        "outputId": "c7acfda8-ce5c-4ad5-845d-829e4ca662d3"
      },
      "execution_count": 15,
      "outputs": [
        {
          "output_type": "stream",
          "name": "stdout",
          "text": [
            "5\n"
          ]
        }
      ]
    },
    {
      "cell_type": "markdown",
      "source": [
        "7)"
      ],
      "metadata": {
        "id": "a9Cma4JXmRtL"
      }
    },
    {
      "cell_type": "code",
      "source": [
        "suma_lista = lambda lista: sum(lista)"
      ],
      "metadata": {
        "id": "S2FYZxZ6mSqE"
      },
      "execution_count": 16,
      "outputs": []
    },
    {
      "cell_type": "code",
      "source": [
        "print(suma_lista([1, 2, 3, 4]))"
      ],
      "metadata": {
        "colab": {
          "base_uri": "https://localhost:8080/"
        },
        "id": "3Q6gTezWmS6g",
        "outputId": "072d111a-672d-40b0-fe5d-e13591776054"
      },
      "execution_count": 17,
      "outputs": [
        {
          "output_type": "stream",
          "name": "stdout",
          "text": [
            "10\n"
          ]
        }
      ]
    },
    {
      "cell_type": "code",
      "source": [
        "print(suma_lista([10, 22, 3]))"
      ],
      "metadata": {
        "colab": {
          "base_uri": "https://localhost:8080/"
        },
        "id": "DkV6RC47mTPY",
        "outputId": "61681349-01bc-4155-e0ac-a05f68b59817"
      },
      "execution_count": 18,
      "outputs": [
        {
          "output_type": "stream",
          "name": "stdout",
          "text": [
            "35\n"
          ]
        }
      ]
    },
    {
      "cell_type": "markdown",
      "source": [
        "8)"
      ],
      "metadata": {
        "id": "1yBchQa_meBv"
      }
    },
    {
      "cell_type": "code",
      "source": [
        "mayor_menor = lambda lista: (max(lista), min(lista)) if lista else (\"Lista vacía\", \"Lista vacía\")"
      ],
      "metadata": {
        "id": "EgM3ZUR-mfRq"
      },
      "execution_count": 20,
      "outputs": []
    },
    {
      "cell_type": "code",
      "source": [
        "print(mayor_menor([48, 15, 97, 22]))"
      ],
      "metadata": {
        "colab": {
          "base_uri": "https://localhost:8080/"
        },
        "id": "PDtzpJd-mfsC",
        "outputId": "bf58cf0c-e8ec-4fcd-84d8-d0a7cbbf7c2f"
      },
      "execution_count": 21,
      "outputs": [
        {
          "output_type": "stream",
          "name": "stdout",
          "text": [
            "(97, 15)\n"
          ]
        }
      ]
    },
    {
      "cell_type": "code",
      "source": [
        "print(mayor_menor([5, 1, 3]))"
      ],
      "metadata": {
        "colab": {
          "base_uri": "https://localhost:8080/"
        },
        "id": "-z1HGrgNmgTK",
        "outputId": "20b5e13f-f2d9-45bc-e926-99ad874426b8"
      },
      "execution_count": 22,
      "outputs": [
        {
          "output_type": "stream",
          "name": "stdout",
          "text": [
            "(5, 1)\n"
          ]
        }
      ]
    },
    {
      "cell_type": "markdown",
      "source": [
        "9)"
      ],
      "metadata": {
        "id": "2g8XFi4imoVj"
      }
    },
    {
      "cell_type": "code",
      "source": [
        "invertir_lista = lambda lista: lista[::-1]"
      ],
      "metadata": {
        "id": "aMJeUmUsmqld"
      },
      "execution_count": 23,
      "outputs": []
    },
    {
      "cell_type": "code",
      "source": [
        "print(invertir_lista([1, 22, 36, 74]))"
      ],
      "metadata": {
        "colab": {
          "base_uri": "https://localhost:8080/"
        },
        "id": "vXPFOuG6mq4t",
        "outputId": "e88d559c-9869-42cc-cf2b-b581436bb639"
      },
      "execution_count": 24,
      "outputs": [
        {
          "output_type": "stream",
          "name": "stdout",
          "text": [
            "[74, 36, 22, 1]\n"
          ]
        }
      ]
    },
    {
      "cell_type": "code",
      "source": [
        "print(invertir_lista([2, 32, 53, 4]))"
      ],
      "metadata": {
        "colab": {
          "base_uri": "https://localhost:8080/"
        },
        "id": "52j6lkHpmrQk",
        "outputId": "7d14048a-65b4-4c9f-ee7d-1645c515a4cc"
      },
      "execution_count": 25,
      "outputs": [
        {
          "output_type": "stream",
          "name": "stdout",
          "text": [
            "[4, 53, 32, 2]\n"
          ]
        }
      ]
    },
    {
      "cell_type": "markdown",
      "source": [
        "10)"
      ],
      "metadata": {
        "id": "APSC954Xm7En"
      }
    },
    {
      "cell_type": "code",
      "source": [
        "nombres_vocal = lambda lista: sum(1 for nombre in lista if nombre[0] in \"aeiou\")"
      ],
      "metadata": {
        "id": "3O1ybLmxm7_g"
      },
      "execution_count": 26,
      "outputs": []
    },
    {
      "cell_type": "code",
      "source": [
        "print(nombres_vocal([\"sergio\", \"angel\", \"ignacio\", \"manuel\", \"jose\"]))"
      ],
      "metadata": {
        "colab": {
          "base_uri": "https://localhost:8080/"
        },
        "id": "oF4Y_oIUm8Zd",
        "outputId": "e7ecde98-1c3d-43fb-e9fa-712c4bad2075"
      },
      "execution_count": 27,
      "outputs": [
        {
          "output_type": "stream",
          "name": "stdout",
          "text": [
            "2\n"
          ]
        }
      ]
    },
    {
      "cell_type": "code",
      "source": [
        "print(nombres_vocal([\"alejandro\", \"alan\", \"david\", \"anuel\", \"sebastian\"]))"
      ],
      "metadata": {
        "colab": {
          "base_uri": "https://localhost:8080/"
        },
        "id": "fL3aFijZm8vh",
        "outputId": "dbc3e917-4d97-433c-fc49-d335421845eb"
      },
      "execution_count": 28,
      "outputs": [
        {
          "output_type": "stream",
          "name": "stdout",
          "text": [
            "3\n"
          ]
        }
      ]
    }
  ]
}