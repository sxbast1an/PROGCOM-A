{
  "nbformat": 4,
  "nbformat_minor": 0,
  "metadata": {
    "colab": {
      "provenance": [],
      "authorship_tag": "ABX9TyO2MHit8a/RBXn/j7DLT/R7",
      "include_colab_link": true
    },
    "kernelspec": {
      "name": "python3",
      "display_name": "Python 3"
    },
    "language_info": {
      "name": "python"
    }
  },
  "cells": [
    {
      "cell_type": "markdown",
      "metadata": {
        "id": "view-in-github",
        "colab_type": "text"
      },
      "source": [
        "<a href=\"https://colab.research.google.com/github/sxbast1an/PROGCOM-A/blob/main/ejercicios_prueba_diagnostica_johan_sebastian_valderrama_ramirez.ipynb\" target=\"_parent\"><img src=\"https://colab.research.google.com/assets/colab-badge.svg\" alt=\"Open In Colab\"/></a>"
      ]
    },
    {
      "cell_type": "markdown",
      "source": [],
      "metadata": {
        "id": "9mnLdmNWKgOv"
      }
    },
    {
      "cell_type": "markdown",
      "source": [
        "##Estructura de seleccion  \n",
        "Aqui se desarrollaran ejercicios sobre estructuras de seleccion\n",
        "\n",
        "```\n",
        "si (condicion) entonces:\n",
        "  pasan cosas divertidas\n",
        "sino:\n",
        "  llorelo ☹\n",
        "\n",
        "```\n",
        "\n"
      ],
      "metadata": {
        "id": "Y9ciqcAkLZNm"
      }
    },
    {
      "cell_type": "markdown",
      "source": [
        "estructuras de decision\n",
        "1.\n",
        "\n",
        "```\n",
        "num = float(input(\"Ingresa un número: \"))\n",
        "if num > 0:\n",
        "    print(\"El número es positivo.\")\n",
        "else:\n",
        "    print(\"El número no es positivo.\")\n",
        "\n",
        "```\n",
        "\n"
      ],
      "metadata": {
        "id": "PwjiUma6beFS"
      }
    },
    {
      "cell_type": "markdown",
      "source": [
        "2.\n",
        "\n",
        "```\n",
        "edad = int(input(\"Ingresa tu edad: \"))\n",
        "if edad >= 18:\n",
        "    print(\"Eres mayor de edad.\")\n",
        "else:\n",
        "    print(\"Eres menor de edad.\")\n",
        "```\n",
        "\n",
        "\n"
      ],
      "metadata": {
        "id": "yyXA2xlmbwJx"
      }
    },
    {
      "cell_type": "markdown",
      "source": [
        "3\n",
        "\n",
        "```\n",
        "a = float(input(\"Ingresa el primer número: \"))\n",
        "b = float(input(\"Ingresa el segundo número: \"))\n",
        "if a > b:\n",
        "    print(\"El mayor es:\", a)\n",
        "elif b > a:\n",
        "    print(\"El mayor es:\", b)\n",
        "else:\n",
        "    print(\"Ambos números son iguales.\")\n",
        "```\n",
        "\n"
      ],
      "metadata": {
        "id": "kATppfRUb6ox"
      }
    },
    {
      "cell_type": "markdown",
      "source": [
        "4\n",
        "\n",
        "```\n",
        "calificacion = float(input(\"Ingresa la calificación (0-100): \"))\n",
        "if calificacion >= 60:\n",
        "    print(\"Aprobado.\")\n",
        "else:\n",
        "    print(\"Reprobado.\")\n",
        "```\n",
        "\n"
      ],
      "metadata": {
        "id": "Xxao4wd1b_Qx"
      }
    },
    {
      "cell_type": "markdown",
      "source": [
        "5.\n",
        "\n",
        "```\n",
        "numero = int(input(\"Ingresa un número: \"))\n",
        "if numero % 2 == 0:\n",
        "    print(\"Es par.\")\n",
        "else:\n",
        "    print(\"Es impar.\")\n",
        "```\n",
        "\n"
      ],
      "metadata": {
        "id": "NRnMWTPtcFdS"
      }
    },
    {
      "cell_type": "markdown",
      "source": [
        "6.\n",
        "\n",
        "```\n",
        "a = float(input(\"Ingresa el primer número: \"))\n",
        "b = float(input(\"Ingresa el segundo número: \"))\n",
        "c = float(input(\"Ingresa el tercer número: \"))\n",
        "mayor = max(a, b, c)\n",
        "print(\"El mayor es:\", mayor)\n",
        "\n",
        "```\n",
        "\n"
      ],
      "metadata": {
        "id": "0xT48ZMjcMd5"
      }
    },
    {
      "cell_type": "markdown",
      "source": [
        "7.\n",
        "\n",
        "```\n",
        "anio = int(input(\"Ingresa un año: \"))\n",
        "if (anio % 4 == 0 and anio % 100 != 0) or (anio % 400 == 0):\n",
        "    print(\"Es un año bisiesto.\")\n",
        "else:\n",
        "    print(\"No es un año bisiesto.\")\n",
        "\n",
        "```\n",
        "\n"
      ],
      "metadata": {
        "id": "Bbqq_1_9cRMx"
      }
    },
    {
      "cell_type": "markdown",
      "source": [
        "8.\n",
        "\n",
        "```\n",
        "import re\n",
        "\n",
        "contrasena = input(\"Ingresa una contraseña: \")\n",
        "\n",
        "if (len(contrasena) > 8 and\n",
        "    any(c.isdigit() for c in contrasena) and\n",
        "    any(c.isupper() for c in contrasena)):\n",
        "    print(\"Contraseña válida.\")\n",
        "else:\n",
        "    print(\"Contraseña inválida. Debe tener más de 8 caracteres, al menos un número y una letra mayúscula.\")\n",
        "```\n",
        "\n"
      ],
      "metadata": {
        "id": "jZvbQBsvcg4p"
      }
    },
    {
      "cell_type": "markdown",
      "source": [
        "9.\n",
        "\n",
        "```\n",
        "numero = int(input(\"Ingresa un número: \"))\n",
        "\n",
        "if numero % 3 == 0 and numero % 5 == 0:\n",
        "    print(\"FizzBuzz\")\n",
        "elif numero % 3 == 0:\n",
        "    print(\"Fizz\")\n",
        "elif numero % 5 == 0:\n",
        "    print(\"Buzz\")\n",
        "else:\n",
        "    print(numero)\n",
        "```\n",
        "\n"
      ],
      "metadata": {
        "id": "rTOrHyfcckVI"
      }
    },
    {
      "cell_type": "markdown",
      "source": [
        "10.\n",
        "\n",
        "```\n",
        "saldo = 1000  # saldo disponible\n",
        "retiro = float(input(\"Monto a retirar: \"))\n",
        "\n",
        "if retiro <= saldo:\n",
        "    saldo -= retiro\n",
        "    print(f\"Retiro exitoso. Saldo restante: {saldo}\")\n",
        "else:\n",
        "    print(\"Fondos insuficientes.\")\n",
        "```\n",
        "\n"
      ],
      "metadata": {
        "id": "GbawGmpUcqV4"
      }
    },
    {
      "cell_type": "markdown",
      "source": [
        " Estructuras de Repetición\n",
        " 1.\n",
        "\n",
        "```\n",
        "for i in range(1, 11):\n",
        "    print(i)\n",
        "```\n",
        "\n"
      ],
      "metadata": {
        "id": "U8MUU018c9pI"
      }
    },
    {
      "cell_type": "markdown",
      "source": [
        "2.\n",
        "\n",
        "```\n",
        "suma = sum(range(1, 101))\n",
        "print(\"La suma del 1 al 100 es:\", suma)\n",
        "```\n",
        "\n"
      ],
      "metadata": {
        "id": "FeegmaK5dBtw"
      }
    },
    {
      "cell_type": "markdown",
      "source": [
        "3.\n",
        "\n",
        "```\n",
        "for i in range(1, 31):\n",
        "    if i % 3 == 0:\n",
        "        print(i)\n",
        "```\n",
        "\n"
      ],
      "metadata": {
        "id": "WA3SsnshdGeQ"
      }
    },
    {
      "cell_type": "markdown",
      "source": [
        "4.\n",
        "\n",
        "```\n",
        "numero = int(input(\"Ingresa un número: \"))\n",
        "for i in range(1, 11):\n",
        "    print(f\"{numero} x {i} = {numero * i}\")\n",
        "```\n",
        "\n"
      ],
      "metadata": {
        "id": "xJF-tnCUdJbA"
      }
    },
    {
      "cell_type": "markdown",
      "source": [
        "5.\n",
        "\n",
        "```\n",
        "suma = 0\n",
        "for i in range(5):\n",
        "    num = float(input(f\"Ingrese el número {i+1}: \"))\n",
        "    suma += num\n",
        "promedio = suma / 5\n",
        "print(\"El promedio es:\", promedio)\n",
        "```\n",
        "\n"
      ],
      "metadata": {
        "id": "WJLFo3E2dNko"
      }
    },
    {
      "cell_type": "markdown",
      "source": [
        "6.\n",
        "\n",
        "```\n",
        "limite = int(input(\"Ingresa un número: \"))\n",
        "contador = 0\n",
        "for i in range(1, limite + 1):\n",
        "    if i % 2 == 0:\n",
        "        contador += 1\n",
        "print(\"Cantidad de números pares:\", contador)\n",
        "```\n",
        "\n"
      ],
      "metadata": {
        "id": "_uMjGozYdRFY"
      }
    },
    {
      "cell_type": "code",
      "execution_count": null,
      "metadata": {
        "id": "eSco7hQPJcic"
      },
      "outputs": [],
      "source": []
    }
  ]
}